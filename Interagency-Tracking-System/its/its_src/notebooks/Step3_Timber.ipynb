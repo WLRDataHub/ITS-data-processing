{
 "cells": [
  {
   "cell_type": "code",
   "execution_count": 1,
   "metadata": {},
   "outputs": [],
   "source": [
    "import sys\n",
    "sys.path.append('../')"
   ]
  },
  {
   "cell_type": "code",
   "execution_count": 24,
   "metadata": {},
   "outputs": [
    {
     "name": "stdout",
     "output_type": "stream",
     "text": [
      "Dataset does not exist: D:\\WORK\\wildfire\\Interagency-Tracking-System\\its\\Interagency Tracking System.gdb\\c_Enriched\\Timber_Industry_enriched_20240927\n"
     ]
    }
   ],
   "source": [
    "\"\"\"\n",
    "# Description: Converts the California Department of Environmental Quality's \n",
    "#              Prescribed Fire Information Reporting System (PFIRS) dataset \n",
    "#              into the Task Force standardized schema.  Dataset\n",
    "#              is enriched with vegetation, ownership, county, WUI, \n",
    "#              Task Force Region, and year.               \n",
    "# Author: Spatial Informatics Group LLC\n",
    "# Version: 1.0.0\n",
    "# Date Created: Jan 24, 2024\n",
    "\"\"\"\n",
    "import os\n",
    "import datetime\n",
    "from scripts._3a_Timber import Timber\n",
    "from scripts.utils import init_gdb, check_schema_lock#, og_file_input\n",
    "\n",
    "workspace, scratch_workspace = init_gdb()\n",
    "\n",
    "date_id = datetime.datetime.now().strftime(\"%Y-%m-%d\").replace('-','') # like 20230821\n",
    "\n",
    "# INPUTS\n",
    "# NOTE: Update input dataset as necessary\n",
    "\n",
    "year = str(2022)\n",
    "\n",
    "\n",
    "project_path = os.path.abspath(os.path.join(os.getcwd(), \"../../..\"))\n",
    "data_path = os.path.join(project_path, year)\n",
    "input_fc = os.path.join(data_path, \"Industry_nonspatial_2022\\Timber Industry Acres 2022 for SIG 21Aug2023.xlsx\")\n",
    "\n",
    "# OUTPUTS\n",
    "# timestamped outputs\n",
    "output_enriched = os.path.join(workspace, \"c_Enriched\", f'Timber_Industry_enriched_{date_id}') \n",
    "\n",
    "# check_schema_lock(input_fc)\n",
    "check_schema_lock(output_enriched)"
   ]
  },
  {
   "cell_type": "code",
   "execution_count": 3,
   "metadata": {},
   "outputs": [
    {
     "name": "stdout",
     "output_type": "stream",
     "text": [
      "Start Time 2024-09-26 14:37:25.585419\n",
      "Performing Standardization\n",
      "   step 1/4 convert Excel sheet to table\n",
      "   step 2/4 rename and add fields\n",
      "      assigning domains\n",
      "   step 3/4 calculate fields\n",
      "Converting Table to Points FC\n",
      "          removing unnecessary fields\n",
      "        field_list before: ['OBJECTID', 'Shape', 'PROJECTID_USER', 'AGENCY', 'ORG_ADMIN_p', 'PROJECT_CONTACT', 'PROJECT_EMAIL', 'ADMINISTERING_ORG', 'PROJECT_NAME', 'PROJECT_STATUS', 'PROJECT_START', 'PROJECT_END', 'PRIMARY_FUNDING_SOURCE', 'PRIMARY_FUNDING_ORG', 'IMPLEMENTING_ORG', 'LATITUDE', 'LONGITUDE', 'Val_Status_p', 'Val_RunDate_p', 'Review_Status_p', 'Review_RunDate_p', 'Dataload_Status_p', 'Dataload_Msg_p', 'TRMTID_USER', 'PROJECTID', 'PROJECTNAME_', 'ORG_ADMIN_t', 'PRIMARY_OWNERSHIP_GROUP', 'PRIMARY_OBJECTIVE', 'SECONDARY_OBJECTIVE', 'TERTIARY_OBJECTIVE', 'TREATMENT_STATUS', 'COUNTY', 'IN_WUI', 'REGION', 'TREATMENT_AREA', 'TREATMENT_START', 'TREATMENT_END', 'RETREATMENT_DATE_EST', 'TREATMENT_NAME', 'Val_Status_t', 'Val_RunDate_t', 'Review_Status_t', 'Review_RunDate_t', 'Dataload_Status_t', 'Dataload_Msg_t', 'ACTIVID_USER', 'TREATMENTID_', 'ORG_ADMIN_a', 'ACTIVITY_DESCRIPTION', 'ACTIVITY_CAT', 'BROAD_VEGETATION_TYPE', 'BVT_USERD', 'ACTIVITY_STATUS', 'ACTIVITY_UOM', 'ACTIVITY_START', 'ACTIVITY_END', 'ADMIN_ORG_NAME', 'IMPLEM_ORG_NAME', 'PRIMARY_FUND_SRC_NAME', 'PRIMARY_FUND_ORG_NAME', 'SECONDARY_FUND_SRC_NAME', 'SECONDARY_FUND_ORG_NAME', 'TERTIARY_FUND_SRC_NAME', 'TERTIARY_FUND_ORG_NAME', 'ACTIVITY_PRCT', 'RESIDUE_FATE', 'RESIDUE_FATE_QUANTITY', 'RESIDUE_FATE_UNITS', 'ACTIVITY_NAME', 'VAL_STATUS_a', 'VAL_MSG_a', 'VAL_RUNDATE_a', 'REVIEW_STATUS_a', 'REVIEW_MSG_a', 'REVIEW_RUNDATE_a', 'DATALOAD_STATUS_a', 'DATALOAD_MSG_a', 'Source', 'Year', 'Year_txt', 'Act_Code', 'Crosswalk', 'Federal_FY', 'State_FY', 'TRMT_GEOM', 'COUNTS_TO_MAS', 'ACTIVITY_QUANTITY', 'BatchID_p', 'Val_MSG_p', 'Review_MSG_p', 'BatchID', 'Review_MSG_t', 'Val_MSG_t']\n",
      "        field_list after: ['OBJECTID', 'Shape', 'PROJECTID_USER', 'AGENCY', 'ORG_ADMIN_p', 'PROJECT_CONTACT', 'PROJECT_EMAIL', 'ADMINISTERING_ORG', 'PROJECT_NAME', 'PROJECT_STATUS', 'PROJECT_START', 'PROJECT_END', 'PRIMARY_FUNDING_SOURCE', 'PRIMARY_FUNDING_ORG', 'IMPLEMENTING_ORG', 'LATITUDE', 'LONGITUDE', 'Val_Status_p', 'Val_RunDate_p', 'Review_Status_p', 'Review_RunDate_p', 'Dataload_Status_p', 'Dataload_Msg_p', 'TRMTID_USER', 'PROJECTID', 'PROJECTNAME_', 'ORG_ADMIN_t', 'PRIMARY_OWNERSHIP_GROUP', 'PRIMARY_OBJECTIVE', 'SECONDARY_OBJECTIVE', 'TERTIARY_OBJECTIVE', 'TREATMENT_STATUS', 'COUNTY', 'IN_WUI', 'REGION', 'TREATMENT_AREA', 'TREATMENT_START', 'TREATMENT_END', 'RETREATMENT_DATE_EST', 'TREATMENT_NAME', 'Val_Status_t', 'Val_RunDate_t', 'Review_Status_t', 'Review_RunDate_t', 'Dataload_Status_t', 'Dataload_Msg_t', 'ACTIVID_USER', 'TREATMENTID_', 'ORG_ADMIN_a', 'ACTIVITY_DESCRIPTION', 'ACTIVITY_CAT', 'BROAD_VEGETATION_TYPE', 'BVT_USERD', 'ACTIVITY_STATUS', 'ACTIVITY_UOM', 'ACTIVITY_START', 'ACTIVITY_END', 'ADMIN_ORG_NAME', 'IMPLEM_ORG_NAME', 'PRIMARY_FUND_SRC_NAME', 'PRIMARY_FUND_ORG_NAME', 'SECONDARY_FUND_SRC_NAME', 'SECONDARY_FUND_ORG_NAME', 'TERTIARY_FUND_SRC_NAME', 'TERTIARY_FUND_ORG_NAME', 'ACTIVITY_PRCT', 'RESIDUE_FATE', 'RESIDUE_FATE_QUANTITY', 'RESIDUE_FATE_UNITS', 'ACTIVITY_NAME', 'VAL_STATUS_a', 'VAL_MSG_a', 'VAL_RUNDATE_a', 'REVIEW_STATUS_a', 'REVIEW_MSG_a', 'REVIEW_RUNDATE_a', 'DATALOAD_STATUS_a', 'DATALOAD_MSG_a', 'Source', 'Year', 'Year_txt', 'Act_Code', 'Crosswalk', 'Federal_FY', 'State_FY', 'TRMT_GEOM', 'COUNTS_TO_MAS', 'ACTIVITY_QUANTITY', 'BatchID_p', 'Val_MSG_p', 'Review_MSG_p', 'BatchID', 'Review_MSG_t', 'Val_MSG_t']\n",
      "Saving Output Standardized\n",
      "standardized has 17 records\n",
      "Performing Enrichments\n",
      "   Executing Point Enrichments...\n",
      "     Point Enrichment Start Time 2024-09-26 14:37:27.920752\n",
      "     Calculating WUI...\n",
      "       enrich step 1/16 select layer by WUI\n",
      "       enrich step 2/16 calculate WUI yes\n",
      "       enrich step 3/16 switch selection\n",
      "       enrich step 4/16 calculate WUI no\n",
      "       enrich step 5/16 clear selection\n",
      "     Calculating Ownership, Counties, and Regions...\n",
      "       enrich step 6/16 spatial join ownership\n",
      "       enrich step 7/16 spatial join regions\n",
      "       enrich step 8/16 spatial join veg\n",
      "       enrich step 9/16 calculate ownership\n",
      "       enrich step 10/16 calculate county\n",
      "       enrich step 11/16 calculate region\n",
      "       enrich step 12/16 calculate veg type\n",
      "       enrich step 13/16 Initiating Crosswalk\n",
      "      Calculating Crosswalking Activites...\n",
      "          cross step 1/8 add join\n",
      "          cross step 2/8 calculate activities\n",
      "          cross step 3/8 calculate residue fate field\n",
      "          cross step 4/8 select attribute by layer\n",
      "          cross step 5/8 calculating objective...\n",
      "          cross step 6/8 calculate category\n",
      "      Calculate Activity Category Step 1/1\n",
      "          cross step 7/8 standardize domains\n",
      "          cross step 8/8 counts towards MAS\n",
      "      Calculating 'Counts to MAS'\n",
      "        counts step 1/8: set to 'NO'\n",
      "        counts step 2/8: select by bounding years (2020-2023)\n",
      "             this step is redundant and therefore skipped\n",
      "        counts step 3/8: set to 'YES' if activity description is in the list\n",
      "        counts step 3/8: set to 'NO' if not 'Acres'\n",
      "        counts step 4/8: set to 'NO' if status is 'Canceled', 'Planned', 'Outyear', or 'Proposed'\n",
      "        counts step 5/8: set to 'NO' if Activity Category is 'Watershed Improvement'\n",
      "        counts step 6/8: set to 'NO' if Agency is 'Other' and Admin is 'CARB'\n",
      "        counts step 7/8: set to 'NO' if Org is 'USFS' and Status is 'Active'\n",
      "        counts step 8/8: set to 'NO' if Admin is in the list\n",
      "          removing unnecessary fields\n",
      "        field_list before: ['OBJECTID', 'Shape', 'Join_Count', 'TARGET_FID', 'Join_Count_1', 'TARGET_FID_1', 'Join_Count_12', 'TARGET_FID_12', 'PROJECTID_USER', 'AGENCY', 'ORG_ADMIN_p', 'PROJECT_CONTACT', 'PROJECT_EMAIL', 'ADMINISTERING_ORG', 'PROJECT_NAME', 'PROJECT_STATUS', 'PROJECT_START', 'PROJECT_END', 'PRIMARY_FUNDING_SOURCE', 'PRIMARY_FUNDING_ORG', 'IMPLEMENTING_ORG', 'LATITUDE', 'LONGITUDE', 'Val_Status_p', 'Val_RunDate_p', 'Review_Status_p', 'Review_RunDate_p', 'Dataload_Status_p', 'Dataload_Msg_p', 'TRMTID_USER', 'PROJECTID', 'PROJECTNAME_', 'ORG_ADMIN_t', 'PRIMARY_OWNERSHIP_GROUP', 'PRIMARY_OBJECTIVE', 'SECONDARY_OBJECTIVE', 'TERTIARY_OBJECTIVE', 'TREATMENT_STATUS', 'COUNTY', 'IN_WUI', 'REGION', 'TREATMENT_AREA', 'TREATMENT_START', 'TREATMENT_END', 'RETREATMENT_DATE_EST', 'TREATMENT_NAME', 'Val_Status_t', 'Val_RunDate_t', 'Review_Status_t', 'Review_RunDate_t', 'Dataload_Status_t', 'Dataload_Msg_t', 'ACTIVID_USER', 'TREATMENTID_', 'ORG_ADMIN_a', 'ACTIVITY_DESCRIPTION', 'ACTIVITY_CAT', 'BROAD_VEGETATION_TYPE', 'BVT_USERD', 'ACTIVITY_STATUS', 'ACTIVITY_UOM', 'ACTIVITY_START', 'ACTIVITY_END', 'ADMIN_ORG_NAME', 'IMPLEM_ORG_NAME', 'PRIMARY_FUND_SRC_NAME', 'PRIMARY_FUND_ORG_NAME', 'SECONDARY_FUND_SRC_NAME', 'SECONDARY_FUND_ORG_NAME', 'TERTIARY_FUND_SRC_NAME', 'TERTIARY_FUND_ORG_NAME', 'ACTIVITY_PRCT', 'RESIDUE_FATE', 'RESIDUE_FATE_QUANTITY', 'RESIDUE_FATE_UNITS', 'ACTIVITY_NAME', 'VAL_STATUS_a', 'VAL_MSG_a', 'VAL_RUNDATE_a', 'REVIEW_STATUS_a', 'REVIEW_MSG_a', 'REVIEW_RUNDATE_a', 'DATALOAD_STATUS_a', 'DATALOAD_MSG_a', 'Source', 'Year', 'Year_txt', 'Act_Code', 'Crosswalk', 'Federal_FY', 'State_FY', 'TRMT_GEOM', 'COUNTS_TO_MAS', 'ACTIVITY_QUANTITY', 'BatchID_p', 'Val_MSG_p', 'Review_MSG_p', 'BatchID', 'Review_MSG_t', 'Val_MSG_t', 'AGNCY_LEV', 'COUNTY_1', 'GIS_ACRES', 'Region_1', 'GIS_Acres_1', 'Id', 'gridcode', 'WHR13NAME']\n",
      "        field_list after: ['OBJECTID', 'Shape', 'PROJECTID_USER', 'AGENCY', 'ORG_ADMIN_p', 'PROJECT_CONTACT', 'PROJECT_EMAIL', 'ADMINISTERING_ORG', 'PROJECT_NAME', 'PROJECT_STATUS', 'PROJECT_START', 'PROJECT_END', 'PRIMARY_FUNDING_SOURCE', 'PRIMARY_FUNDING_ORG', 'IMPLEMENTING_ORG', 'LATITUDE', 'LONGITUDE', 'Val_Status_p', 'Val_RunDate_p', 'Review_Status_p', 'Review_RunDate_p', 'Dataload_Status_p', 'Dataload_Msg_p', 'TRMTID_USER', 'PROJECTID', 'PROJECTNAME_', 'ORG_ADMIN_t', 'PRIMARY_OWNERSHIP_GROUP', 'PRIMARY_OBJECTIVE', 'SECONDARY_OBJECTIVE', 'TERTIARY_OBJECTIVE', 'TREATMENT_STATUS', 'COUNTY', 'IN_WUI', 'REGION', 'TREATMENT_AREA', 'TREATMENT_START', 'TREATMENT_END', 'RETREATMENT_DATE_EST', 'TREATMENT_NAME', 'Val_Status_t', 'Val_RunDate_t', 'Review_Status_t', 'Review_RunDate_t', 'Dataload_Status_t', 'Dataload_Msg_t', 'ACTIVID_USER', 'TREATMENTID_', 'ORG_ADMIN_a', 'ACTIVITY_DESCRIPTION', 'ACTIVITY_CAT', 'BROAD_VEGETATION_TYPE', 'BVT_USERD', 'ACTIVITY_STATUS', 'ACTIVITY_UOM', 'ACTIVITY_START', 'ACTIVITY_END', 'ADMIN_ORG_NAME', 'IMPLEM_ORG_NAME', 'PRIMARY_FUND_SRC_NAME', 'PRIMARY_FUND_ORG_NAME', 'SECONDARY_FUND_SRC_NAME', 'SECONDARY_FUND_ORG_NAME', 'TERTIARY_FUND_SRC_NAME', 'TERTIARY_FUND_ORG_NAME', 'ACTIVITY_PRCT', 'RESIDUE_FATE', 'RESIDUE_FATE_QUANTITY', 'RESIDUE_FATE_UNITS', 'ACTIVITY_NAME', 'VAL_STATUS_a', 'VAL_MSG_a', 'VAL_RUNDATE_a', 'REVIEW_STATUS_a', 'REVIEW_MSG_a', 'REVIEW_RUNDATE_a', 'DATALOAD_STATUS_a', 'DATALOAD_MSG_a', 'Source', 'Year', 'Year_txt', 'Act_Code', 'Crosswalk', 'Federal_FY', 'State_FY', 'TRMT_GEOM', 'COUNTS_TO_MAS', 'ACTIVITY_QUANTITY', 'BatchID_p', 'Val_MSG_p', 'Review_MSG_p', 'BatchID', 'Review_MSG_t', 'Val_MSG_t']\n",
      "     Crosswalk Complete, Continuing Enrichment\n",
      "       enrich step 14/16 Calculating Years\n",
      "       enrich step 15/16 Calculating Latitude and Longitude\n",
      "       enrich step 16/16 removing unnecessary fields\n",
      "          removing unnecessary fields\n",
      "        field_list before: ['OBJECTID', 'Shape', 'PROJECTID_USER', 'AGENCY', 'ORG_ADMIN_p', 'PROJECT_CONTACT', 'PROJECT_EMAIL', 'ADMINISTERING_ORG', 'PROJECT_NAME', 'PROJECT_STATUS', 'PROJECT_START', 'PROJECT_END', 'PRIMARY_FUNDING_SOURCE', 'PRIMARY_FUNDING_ORG', 'IMPLEMENTING_ORG', 'LATITUDE', 'LONGITUDE', 'Val_Status_p', 'Val_RunDate_p', 'Review_Status_p', 'Review_RunDate_p', 'Dataload_Status_p', 'Dataload_Msg_p', 'TRMTID_USER', 'PROJECTID', 'PROJECTNAME_', 'ORG_ADMIN_t', 'PRIMARY_OWNERSHIP_GROUP', 'PRIMARY_OBJECTIVE', 'SECONDARY_OBJECTIVE', 'TERTIARY_OBJECTIVE', 'TREATMENT_STATUS', 'COUNTY', 'IN_WUI', 'REGION', 'TREATMENT_AREA', 'TREATMENT_START', 'TREATMENT_END', 'RETREATMENT_DATE_EST', 'TREATMENT_NAME', 'Val_Status_t', 'Val_RunDate_t', 'Review_Status_t', 'Review_RunDate_t', 'Dataload_Status_t', 'Dataload_Msg_t', 'ACTIVID_USER', 'TREATMENTID_', 'ORG_ADMIN_a', 'ACTIVITY_DESCRIPTION', 'ACTIVITY_CAT', 'BROAD_VEGETATION_TYPE', 'BVT_USERD', 'ACTIVITY_STATUS', 'ACTIVITY_UOM', 'ACTIVITY_START', 'ACTIVITY_END', 'ADMIN_ORG_NAME', 'IMPLEM_ORG_NAME', 'PRIMARY_FUND_SRC_NAME', 'PRIMARY_FUND_ORG_NAME', 'SECONDARY_FUND_SRC_NAME', 'SECONDARY_FUND_ORG_NAME', 'TERTIARY_FUND_SRC_NAME', 'TERTIARY_FUND_ORG_NAME', 'ACTIVITY_PRCT', 'RESIDUE_FATE', 'RESIDUE_FATE_QUANTITY', 'RESIDUE_FATE_UNITS', 'ACTIVITY_NAME', 'VAL_STATUS_a', 'VAL_MSG_a', 'VAL_RUNDATE_a', 'REVIEW_STATUS_a', 'REVIEW_MSG_a', 'REVIEW_RUNDATE_a', 'DATALOAD_STATUS_a', 'DATALOAD_MSG_a', 'Source', 'Year', 'Year_txt', 'Act_Code', 'Crosswalk', 'Federal_FY', 'State_FY', 'TRMT_GEOM', 'COUNTS_TO_MAS', 'ACTIVITY_QUANTITY', 'BatchID_p', 'Val_MSG_p', 'Review_MSG_p', 'BatchID', 'Review_MSG_t', 'Val_MSG_t']\n",
      "        field_list after: ['OBJECTID', 'Shape', 'PROJECTID_USER', 'AGENCY', 'ORG_ADMIN_p', 'PROJECT_CONTACT', 'PROJECT_EMAIL', 'ADMINISTERING_ORG', 'PROJECT_NAME', 'PROJECT_STATUS', 'PROJECT_START', 'PROJECT_END', 'PRIMARY_FUNDING_SOURCE', 'PRIMARY_FUNDING_ORG', 'IMPLEMENTING_ORG', 'LATITUDE', 'LONGITUDE', 'Val_Status_p', 'Val_RunDate_p', 'Review_Status_p', 'Review_RunDate_p', 'Dataload_Status_p', 'Dataload_Msg_p', 'TRMTID_USER', 'PROJECTID', 'PROJECTNAME_', 'ORG_ADMIN_t', 'PRIMARY_OWNERSHIP_GROUP', 'PRIMARY_OBJECTIVE', 'SECONDARY_OBJECTIVE', 'TERTIARY_OBJECTIVE', 'TREATMENT_STATUS', 'COUNTY', 'IN_WUI', 'REGION', 'TREATMENT_AREA', 'TREATMENT_START', 'TREATMENT_END', 'RETREATMENT_DATE_EST', 'TREATMENT_NAME', 'Val_Status_t', 'Val_RunDate_t', 'Review_Status_t', 'Review_RunDate_t', 'Dataload_Status_t', 'Dataload_Msg_t', 'ACTIVID_USER', 'TREATMENTID_', 'ORG_ADMIN_a', 'ACTIVITY_DESCRIPTION', 'ACTIVITY_CAT', 'BROAD_VEGETATION_TYPE', 'BVT_USERD', 'ACTIVITY_STATUS', 'ACTIVITY_UOM', 'ACTIVITY_START', 'ACTIVITY_END', 'ADMIN_ORG_NAME', 'IMPLEM_ORG_NAME', 'PRIMARY_FUND_SRC_NAME', 'PRIMARY_FUND_ORG_NAME', 'SECONDARY_FUND_SRC_NAME', 'SECONDARY_FUND_ORG_NAME', 'TERTIARY_FUND_SRC_NAME', 'TERTIARY_FUND_ORG_NAME', 'ACTIVITY_PRCT', 'RESIDUE_FATE', 'RESIDUE_FATE_QUANTITY', 'RESIDUE_FATE_UNITS', 'ACTIVITY_NAME', 'VAL_STATUS_a', 'VAL_MSG_a', 'VAL_RUNDATE_a', 'REVIEW_STATUS_a', 'REVIEW_MSG_a', 'REVIEW_RUNDATE_a', 'DATALOAD_STATUS_a', 'DATALOAD_MSG_a', 'Source', 'Year', 'Year_txt', 'Act_Code', 'Crosswalk', 'Federal_FY', 'State_FY', 'TRMT_GEOM', 'COUNTS_TO_MAS', 'ACTIVITY_QUANTITY', 'BatchID_p', 'Val_MSG_p', 'Review_MSG_p', 'BatchID', 'Review_MSG_t', 'Val_MSG_t']\n",
      "   Enrich Points Complete...\n",
      "     Enrichment Points script took: 0h, 1m, 3.0s to complete\n",
      "Saving Output Enriched\n",
      "     enriched has 17 records\n",
      "      assigning domains\n",
      "Deleting Scratch Files\n",
      "Timber script took: 0h, 1m, 20.0s to complete\n"
     ]
    }
   ],
   "source": [
    "Timber(\n",
    "    input_fc, \n",
    "    output_enriched\n",
    "    )"
   ]
  },
  {
   "cell_type": "code",
   "execution_count": 5,
   "metadata": {},
   "outputs": [],
   "source": [
    "workspace = 'D:\\\\WORK\\\\wildfire\\\\Interagency-Tracking-System\\\\its\\\\ITSGDB_backup\\\\Interagency Tracking System_2022_Carl.gdb\\\\Interagency Tracking System.gdb'"
   ]
  },
  {
   "cell_type": "code",
   "execution_count": 6,
   "metadata": {},
   "outputs": [],
   "source": [
    "from scripts.utils import og_file_input"
   ]
  },
  {
   "cell_type": "code",
   "execution_count": 8,
   "metadata": {},
   "outputs": [],
   "source": [
    "f_name = 'Private_Industrial_enriched_20230921'\n",
    "f_path = os.path.join(workspace, 'C_Enriched', f_name)"
   ]
  },
  {
   "cell_type": "code",
   "execution_count": 11,
   "metadata": {},
   "outputs": [],
   "source": [
    "import arcpy"
   ]
  },
  {
   "cell_type": "code",
   "execution_count": 19,
   "metadata": {},
   "outputs": [],
   "source": [
    "\n",
    "\n",
    "out_path = arcpy.CreateFileGDB_management('D:\\\\WORK\\\\wildfire\\\\Interagency-Tracking-System\\\\its\\\\ITSGDB_backup', f_name)[0]\n"
   ]
  },
  {
   "cell_type": "code",
   "execution_count": 17,
   "metadata": {},
   "outputs": [
    {
     "ename": "OSError",
     "evalue": "\"D:\\WORK\\wildfire\\Interagency-Tracking-System\\its\\ITSGDB_backup\\Interagency Tracking System_2022_Carl.gdb\\Interagency Tracking System.gdb\\C_Enriched\\Private_Industrial_enriched_20230921\" does not exist",
     "output_type": "error",
     "traceback": [
      "\u001b[1;31m---------------------------------------------------------------------------\u001b[0m",
      "\u001b[1;31mOSError\u001b[0m                                   Traceback (most recent call last)",
      "Cell \u001b[1;32mIn[17], line 4\u001b[0m\n\u001b[0;32m      1\u001b[0m fc \u001b[38;5;241m=\u001b[39m arcpy\u001b[38;5;241m.\u001b[39mmanagement\u001b[38;5;241m.\u001b[39mCreateFeatureclass(\n\u001b[0;32m      2\u001b[0m         out_path\u001b[38;5;241m=\u001b[39mout_path, \n\u001b[0;32m      3\u001b[0m         out_name\u001b[38;5;241m=\u001b[39mf_name,\n\u001b[1;32m----> 4\u001b[0m         geometry_type\u001b[38;5;241m=\u001b[39m\u001b[43marcpy\u001b[49m\u001b[38;5;241;43m.\u001b[39;49m\u001b[43mDescribe\u001b[49m\u001b[43m(\u001b[49m\u001b[43mf_path\u001b[49m\u001b[43m)\u001b[49m\u001b[38;5;241m.\u001b[39mshapeType,\n\u001b[0;32m      5\u001b[0m         template\u001b[38;5;241m=\u001b[39m[f_path], \n\u001b[0;32m      6\u001b[0m         spatial_reference\u001b[38;5;241m=\u001b[39marcpy\u001b[38;5;241m.\u001b[39mDescribe(f_path)\u001b[38;5;241m.\u001b[39mspatialReference\u001b[38;5;241m.\u001b[39mname\n\u001b[0;32m      7\u001b[0m     )\n",
      "File \u001b[1;32mC:\\Program Files\\ArcGIS\\Pro\\Resources\\ArcPy\\arcpy\\__init__.py:1275\u001b[0m, in \u001b[0;36mDescribe\u001b[1;34m(value, data_type)\u001b[0m\n\u001b[0;32m   1251\u001b[0m \u001b[38;5;129m@_gptooldoc\u001b[39m(\u001b[38;5;28;01mNone\u001b[39;00m, [[[\u001b[38;5;124m\"\u001b[39m\u001b[38;5;124mFeatureLayer\u001b[39m\u001b[38;5;124m\"\u001b[39m, \u001b[38;5;124m\"\u001b[39m\u001b[38;5;124mTable\u001b[39m\u001b[38;5;124m\"\u001b[39m, \u001b[38;5;124m\"\u001b[39m\u001b[38;5;124mTableView\u001b[39m\u001b[38;5;124m\"\u001b[39m, \u001b[38;5;124m\"\u001b[39m\u001b[38;5;124mDataset\u001b[39m\u001b[38;5;124m\"\u001b[39m, \u001b[38;5;124m\"\u001b[39m\u001b[38;5;124mFeatureDataset\u001b[39m\u001b[38;5;124m\"\u001b[39m, \u001b[38;5;124m\"\u001b[39m\u001b[38;5;124mRasterDataset\u001b[39m\u001b[38;5;124m\"\u001b[39m, \u001b[38;5;124m\"\u001b[39m\u001b[38;5;124mRasterLayer\u001b[39m\u001b[38;5;124m\"\u001b[39m, \u001b[38;5;124m\"\u001b[39m\u001b[38;5;124mTinLayer\u001b[39m\u001b[38;5;124m\"\u001b[39m, \u001b[38;5;124m\"\u001b[39m\u001b[38;5;124mLasDataset\u001b[39m\u001b[38;5;124m\"\u001b[39m, \u001b[38;5;124m\"\u001b[39m\u001b[38;5;124mLasDatasetLayer\u001b[39m\u001b[38;5;124m\"\u001b[39m], \u001b[38;5;124m\"\u001b[39m\u001b[38;5;124m\"\u001b[39m, \u001b[38;5;124m\"\u001b[39m\u001b[38;5;124m\"\u001b[39m, \u001b[38;5;124m\"\u001b[39m\u001b[38;5;124m\"\u001b[39m]])\n\u001b[0;32m   1252\u001b[0m \u001b[38;5;28;01mdef\u001b[39;00m \u001b[38;5;21mDescribe\u001b[39m(value, data_type\u001b[38;5;241m=\u001b[39m\u001b[38;5;28;01mNone\u001b[39;00m):\n\u001b[0;32m   1253\u001b[0m \u001b[38;5;250m    \u001b[39m\u001b[38;5;124;03m\"\"\"Describe(value, {data_type})\u001b[39;00m\n\u001b[0;32m   1254\u001b[0m \n\u001b[0;32m   1255\u001b[0m \u001b[38;5;124;03m       The Describe function returns a Describe object, with multiple\u001b[39;00m\n\u001b[1;32m   (...)\u001b[0m\n\u001b[0;32m   1273\u001b[0m \u001b[38;5;124;03m       class with the same name. In this case, the data type is used to clarify\u001b[39;00m\n\u001b[0;32m   1274\u001b[0m \u001b[38;5;124;03m       which dataset you want to describe.\"\"\"\u001b[39;00m\n\u001b[1;32m-> 1275\u001b[0m     \u001b[38;5;28;01mreturn\u001b[39;00m \u001b[43mgp\u001b[49m\u001b[38;5;241;43m.\u001b[39;49m\u001b[43mdescribe\u001b[49m\u001b[43m(\u001b[49m\u001b[43mvalue\u001b[49m\u001b[43m,\u001b[49m\u001b[43m \u001b[49m\u001b[43mdata_type\u001b[49m\u001b[43m)\u001b[49m\n",
      "File \u001b[1;32mC:\\Program Files\\ArcGIS\\Pro\\Resources\\ArcPy\\arcpy\\geoprocessing\\_base.py:384\u001b[0m, in \u001b[0;36mGeoprocessor.describe\u001b[1;34m(self, *args)\u001b[0m\n\u001b[0;32m    381\u001b[0m \u001b[38;5;250m\u001b[39m\u001b[38;5;124;03m\"\"\"GP function Describe\"\"\"\u001b[39;00m\n\u001b[0;32m    382\u001b[0m \u001b[38;5;28;01mfrom\u001b[39;00m \u001b[38;5;21;01marcpy\u001b[39;00m\u001b[38;5;21;01m.\u001b[39;00m\u001b[38;5;21;01marcobjects\u001b[39;00m\u001b[38;5;21;01m.\u001b[39;00m\u001b[38;5;21;01marcobjectconversion\u001b[39;00m \u001b[38;5;28;01mimport\u001b[39;00m convertArcObjectToPythonObject\n\u001b[0;32m    383\u001b[0m \u001b[38;5;28;01mreturn\u001b[39;00m convertArcObjectToPythonObject(\n\u001b[1;32m--> 384\u001b[0m             \u001b[38;5;28;43mself\u001b[39;49m\u001b[38;5;241;43m.\u001b[39;49m\u001b[43m_gp\u001b[49m\u001b[38;5;241;43m.\u001b[39;49m\u001b[43mDescribe\u001b[49m\u001b[43m(\u001b[49m\u001b[38;5;241;43m*\u001b[39;49m\u001b[43mgp_fixargs\u001b[49m\u001b[43m(\u001b[49m\u001b[43margs\u001b[49m\u001b[43m,\u001b[49m\u001b[43m \u001b[49m\u001b[38;5;28;43;01mTrue\u001b[39;49;00m\u001b[43m)\u001b[49m\u001b[43m)\u001b[49m)\n",
      "\u001b[1;31mOSError\u001b[0m: \"D:\\WORK\\wildfire\\Interagency-Tracking-System\\its\\ITSGDB_backup\\Interagency Tracking System_2022_Carl.gdb\\Interagency Tracking System.gdb\\C_Enriched\\Private_Industrial_enriched_20230921\" does not exist"
     ]
    }
   ],
   "source": [
    "fc = arcpy.management.CreateFeatureclass(\n",
    "        out_path=out_path, \n",
    "        out_name=f_name,\n",
    "        geometry_type=arcpy.Describe(f_path).shapeType,\n",
    "        template=[f_path], \n",
    "        spatial_reference=arcpy.Describe(f_path).spatialReference.name\n",
    "    )"
   ]
  },
  {
   "cell_type": "code",
   "execution_count": 18,
   "metadata": {},
   "outputs": [],
   "source": [
    "import geopandas as gpd"
   ]
  },
  {
   "cell_type": "code",
   "execution_count": 20,
   "metadata": {},
   "outputs": [
    {
     "name": "stderr",
     "output_type": "stream",
     "text": [
      "PROJ: proj_create_from_database: Cannot find proj.db\n"
     ]
    }
   ],
   "source": [
    "timber_gdf = gpd.read_file(workspace, driver=\"OpenFileGDB\", layer=f_name)"
   ]
  },
  {
   "cell_type": "code",
   "execution_count": 29,
   "metadata": {},
   "outputs": [],
   "source": [
    "timber_gdf = timber_gdf.to_crs(4269)"
   ]
  },
  {
   "cell_type": "code",
   "execution_count": 30,
   "metadata": {},
   "outputs": [],
   "source": [
    "timber_gdf.to_file(workspace, driver=\"OpenFileGDB\", layer=f_name)"
   ]
  },
  {
   "cell_type": "code",
   "execution_count": null,
   "metadata": {},
   "outputs": [],
   "source": []
  }
 ],
 "metadata": {
  "kernelspec": {
   "display_name": "Python 3 (ipykernel)",
   "language": "python",
   "name": "python3"
  },
  "language_info": {
   "codemirror_mode": {
    "name": "ipython",
    "version": 3
   },
   "file_extension": ".py",
   "mimetype": "text/x-python",
   "name": "python",
   "nbconvert_exporter": "python",
   "pygments_lexer": "ipython3",
   "version": "3.9.11"
  },
  "vscode": {
   "interpreter": {
    "hash": "ce21b655b4d6c9e397d5ad93d5666c623f49909f6d0cc2f72076dafcf1b3ecfb"
   }
  }
 },
 "nbformat": 4,
 "nbformat_minor": 4
}

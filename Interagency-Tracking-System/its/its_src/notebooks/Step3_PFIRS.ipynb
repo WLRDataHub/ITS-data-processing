{
 "cells": [
  {
   "cell_type": "code",
   "execution_count": 1,
   "metadata": {},
   "outputs": [],
   "source": [
    "import sys\n",
    "sys.path.append('../')"
   ]
  },
  {
   "cell_type": "code",
   "execution_count": 2,
   "metadata": {},
   "outputs": [],
   "source": [
    "\"\"\"\n",
    "# Description: Converts the California Department of Environmental Quality's \n",
    "#              Prescribed Fire Information Reporting System (PFIRS) dataset \n",
    "#              into the Task Force standardized schema.  Dataset\n",
    "#              is enriched with vegetation, ownership, county, WUI, \n",
    "#              Task Force Region, and year.               \n",
    "# Author: Spatial Informatics Group LLC\n",
    "# Version: 1.0.0\n",
    "# Date Created: Jan 24, 2024\n",
    "\"\"\"\n",
    "import os\n",
    "import datetime\n",
    "import pandas as pd\n",
    "from scripts._3a_PFIRS import PFIRS\n",
    "from scripts.utils import init_gdb, check_schema_lock, og_file_input\n",
    "\n",
    "workspace, scratch_workspace = init_gdb()\n",
    "\n",
    "date_id = datetime.datetime.now().strftime(\"%Y-%m-%d\").replace('-','') # like 20221216\n",
    "\n"
   ]
  },
  {
   "cell_type": "code",
   "execution_count": 3,
   "metadata": {},
   "outputs": [],
   "source": [
    "year = str(2023)\n",
    "\n",
    "\n",
    "project_path = os.path.abspath(os.path.join(os.getcwd(), \"../../..\"))\n",
    "data_path = os.path.join(project_path, year)\n",
    "lookup_table_path = os.path.join(data_path, \"PFIRS_2023\\pfirs_agency_2022_2023_AT.xlsx\")\n",
    "\n",
    "if year == '2022':\n",
    "    pfirs_gdb = os.path.join(data_path, \"PFIRS_2022\\PFIRS_2022_fromCarlITSgdb.gdb\")\n",
    "    input_fc = os.path.join(pfirs_gdb, \"PFIRS_2018_2022\") #2022\n",
    "else:\n",
    "    pfirs_gdb = os.path.join(data_path, \"PFIRS_2023\\PFIRS2023.gdb\")\n",
    "    input_fc = os.path.join(pfirs_gdb, \"PFIRS2023_20240624Pull\") #2023"
   ]
  },
  {
   "cell_type": "code",
   "execution_count": 4,
   "metadata": {},
   "outputs": [
    {
     "name": "stdout",
     "output_type": "stream",
     "text": [
      "Available for schema lock: D:\\WORK\\wildfire\\Interagency-Tracking-System\\2023\\PFIRS_2023\\PFIRS2023.gdb\\PFIRS2023_20240624Pull\n",
      "Available for schema lock: D:\\WORK\\wildfire\\Interagency-Tracking-System\\its\\Interagency Tracking System.gdb\\c_Enriched\\PFIRS_enriched2023_20240927\n"
     ]
    }
   ],
   "source": [
    "# INPUTS\n",
    "# NOTE: Update input dataset as necessary\n",
    "# pfirs = og_file_input(prefix = 'PFIRS_', filetype = 'Point', gdb = os.path.join(workspace, \"b_Originals\"))\n",
    "#pfirs = \"PFIRS_2018_2022\"\n",
    "#input_fc = os.path.join(workspace, \"b_Originals\", pfirs)\n",
    "\n",
    "\n",
    "\n",
    "# OUTPUTS\n",
    "# timestamped outputs\n",
    "output_enriched = os.path.join(workspace, \"c_Enriched\",f'PFIRS_enriched{year}_{date_id}') \n",
    "\n",
    "# REFERENCE (must exist already)\n",
    "# NOTE: Appended polygon dataset must already exist\n",
    "prefix = f'Treat_n_harvests_polygons{year}'\n",
    "treat = og_file_input(prefix = prefix, filetype = 'Polygon', gdb = os.path.join(workspace, \"d_Appended\"))\n",
    "treat_poly = os.path.join(workspace, \"d_Appended\", treat)\n",
    "\n",
    "check_schema_lock(input_fc)\n",
    "check_schema_lock(output_enriched)"
   ]
  },
  {
   "cell_type": "code",
   "execution_count": 5,
   "metadata": {},
   "outputs": [],
   "source": [
    "### seems like the instances need to exist in current running kernel, not in py script\n",
    "pfirs_lookup_df = pd.read_excel(os.path.join(data_path, \"PFIRS_2023\\pfirs_agency_2022_2023_AT.xlsx\"))\n",
    "pfirs_lookup_dict = pd.Series(pfirs_lookup_df.agency_calc_field_2.values,index=pfirs_lookup_df.Agency).to_dict()\n",
    "anonymous_org_list = pfirs_lookup_df[pfirs_lookup_df[\"Org Type\"] == \"Industrial Timber\"].Agency.tolist()"
   ]
  },
  {
   "cell_type": "code",
   "execution_count": 6,
   "metadata": {},
   "outputs": [
    {
     "name": "stdout",
     "output_type": "stream",
     "text": [
      "Start Time 2024-09-27 22:09:53.925134\n",
      "Performing Standardization\n",
      "   step 1/4 remove some agencies\n",
      "   step 3/4 rename and add fields\n",
      "      assigning domains\n",
      "   step 2/4 import attributes\n",
      "   remove broadcast burn data for all industry groups except FWS Forestry LLC\n",
      "copy_features_1:  12225\n",
      "select_feature_1:  11148\n",
      "select_feature_2:  1027\n",
      "point_append:  12175\n",
      "Saving Output Standardized\n",
      "standardized has 12175 records\n",
      "          removing unnecessary fields\n",
      "        field_list before: ['OBJECTID', 'Shape', 'Burn_ID', 'Burn_Date', 'Air_District', 'COUNTY_', 'Air_Basin', 'Acres_Requested', 'Acres_Approved', 'Acres_Burned', 'Latitude', 'Longitude', 'Legal_Location', 'AGENCY_', 'LMA_Unit', 'LMA_Name', 'Landowner', 'SMP', 'Burn_Unit', 'Burn_Type', 'Fuel_Type', 'Cover_Type', 'Unit_Acres', 'Tons_per_Acre', 'Total_Tons', 'Crossroads', 'Slope', 'Aspect', 'Min_Elevation', 'Max_Elevation', 'Unit_Description', 'Burner_Comments', 'Mitigtations_Contingencies', 'Monitored', 'Monitor_Name', 'Completed', 'Burn_Status', 'Requested_On', 'Approved_On', 'Active_On', 'Patrol_On', 'Out_On', 'Last_Updated', 'PROJECTID_USER', 'AGENCY', 'ORG_ADMIN_p', 'PROJECT_CONTACT', 'PROJECT_EMAIL', 'ADMINISTERING_ORG', 'PROJECT_NAME', 'PROJECT_STATUS', 'PROJECT_START', 'PROJECT_END', 'PRIMARY_FUNDING_SOURCE', 'PRIMARY_FUNDING_ORG', 'IMPLEMENTING_ORG', 'BatchID_p', 'Val_Status_p', 'Val_MSG_p', 'Val_RunDate_p', 'Review_Status_p', 'Review_MSG_p', 'Review_RunDate_p', 'Dataload_Status_p', 'Dataload_Msg_p', 'TRMTID_USER', 'PROJECTID', 'PROJECTNAME_', 'ORG_ADMIN_t', 'PRIMARY_OWNERSHIP_GROUP', 'PRIMARY_OBJECTIVE', 'SECONDARY_OBJECTIVE', 'TERTIARY_OBJECTIVE', 'TREATMENT_STATUS', 'COUNTY', 'IN_WUI', 'REGION', 'TREATMENT_AREA', 'TREATMENT_START', 'TREATMENT_END', 'RETREATMENT_DATE_EST', 'TREATMENT_NAME', 'BatchID', 'Val_Status_t', 'Val_MSG_t', 'Val_RunDate_t', 'Review_Status_t', 'Review_Msg_t', 'Review_RunDate_t', 'Dataload_Status_t', 'Dataload_Msg_t', 'ACTIVID_USER', 'TREATMENTID_', 'ORG_ADMIN_a', 'ACTIVITY_DESCRIPTION', 'ACTIVITY_CAT', 'BROAD_VEGETATION_TYPE', 'BVT_USERD', 'ACTIVITY_STATUS', 'ACTIVITY_QUANTITY', 'ACTIVITY_UOM', 'ACTIVITY_START', 'ACTIVITY_END', 'ADMIN_ORG_NAME', 'IMPLEM_ORG_NAME', 'PRIMARY_FUND_SRC_NAME', 'PRIMARY_FUND_ORG_NAME', 'SECONDARY_FUND_SRC_NAME', 'SECONDARY_FUND_ORG_NAME', 'TERTIARY_FUND_SRC_NAME', 'TERTIARY_FUND_ORG_NAME', 'ACTIVITY_PRCT', 'RESIDUE_FATE', 'RESIDUE_FATE_QUANTITY', 'RESIDUE_FATE_UNITS', 'ACTIVITY_NAME', 'VAL_STATUS_a', 'VAL_MSG_a', 'VAL_RUNDATE_a', 'REVIEW_STATUS_a', 'REVIEW_MSG_a', 'REVIEW_RUNDATE_a', 'DATALOAD_STATUS_a', 'DATALOAD_MSG_a', 'Source', 'Year', 'Year_txt', 'Act_Code', 'Crosswalk', 'Federal_FY', 'State_FY', 'TRMT_GEOM', 'COUNTS_TO_MAS']\n",
      "        field_list after: ['OBJECTID', 'Shape', 'Latitude', 'Longitude', 'PROJECTID_USER', 'AGENCY', 'ORG_ADMIN_p', 'PROJECT_CONTACT', 'PROJECT_EMAIL', 'ADMINISTERING_ORG', 'PROJECT_NAME', 'PROJECT_STATUS', 'PROJECT_START', 'PROJECT_END', 'PRIMARY_FUNDING_SOURCE', 'PRIMARY_FUNDING_ORG', 'IMPLEMENTING_ORG', 'BatchID_p', 'Val_Status_p', 'Val_MSG_p', 'Val_RunDate_p', 'Review_Status_p', 'Review_MSG_p', 'Review_RunDate_p', 'Dataload_Status_p', 'Dataload_Msg_p', 'TRMTID_USER', 'PROJECTID', 'PROJECTNAME_', 'ORG_ADMIN_t', 'PRIMARY_OWNERSHIP_GROUP', 'PRIMARY_OBJECTIVE', 'SECONDARY_OBJECTIVE', 'TERTIARY_OBJECTIVE', 'TREATMENT_STATUS', 'COUNTY', 'IN_WUI', 'REGION', 'TREATMENT_AREA', 'TREATMENT_START', 'TREATMENT_END', 'RETREATMENT_DATE_EST', 'TREATMENT_NAME', 'BatchID', 'Val_Status_t', 'Val_MSG_t', 'Val_RunDate_t', 'Review_Status_t', 'Review_Msg_t', 'Review_RunDate_t', 'Dataload_Status_t', 'Dataload_Msg_t', 'ACTIVID_USER', 'TREATMENTID_', 'ORG_ADMIN_a', 'ACTIVITY_DESCRIPTION', 'ACTIVITY_CAT', 'BROAD_VEGETATION_TYPE', 'BVT_USERD', 'ACTIVITY_STATUS', 'ACTIVITY_QUANTITY', 'ACTIVITY_UOM', 'ACTIVITY_START', 'ACTIVITY_END', 'ADMIN_ORG_NAME', 'IMPLEM_ORG_NAME', 'PRIMARY_FUND_SRC_NAME', 'PRIMARY_FUND_ORG_NAME', 'SECONDARY_FUND_SRC_NAME', 'SECONDARY_FUND_ORG_NAME', 'TERTIARY_FUND_SRC_NAME', 'TERTIARY_FUND_ORG_NAME', 'ACTIVITY_PRCT', 'RESIDUE_FATE', 'RESIDUE_FATE_QUANTITY', 'RESIDUE_FATE_UNITS', 'ACTIVITY_NAME', 'VAL_STATUS_a', 'VAL_MSG_a', 'VAL_RUNDATE_a', 'REVIEW_STATUS_a', 'REVIEW_MSG_a', 'REVIEW_RUNDATE_a', 'DATALOAD_STATUS_a', 'DATALOAD_MSG_a', 'Source', 'Year', 'Year_txt', 'Act_Code', 'Crosswalk', 'Federal_FY', 'State_FY', 'TRMT_GEOM', 'COUNTS_TO_MAS']\n",
      "     standardized subset has 12175 records\n",
      "Performing Enrichments\n",
      "   Executing Point Enrichments...\n",
      "     Point Enrichment Start Time 2024-09-27 22:09:56.559981\n",
      "     Calculating WUI...\n",
      "       enrich step 1/16 select layer by WUI\n",
      "       enrich step 2/16 calculate WUI yes\n",
      "       enrich step 3/16 switch selection\n",
      "       enrich step 4/16 calculate WUI no\n",
      "       enrich step 5/16 clear selection\n",
      "     Calculating Ownership, Counties, and Regions...\n",
      "       enrich step 6/16 spatial join ownership\n",
      "       enrich step 7/16 spatial join regions\n",
      "       enrich step 8/16 spatial join veg\n",
      "       enrich step 9/16 calculate ownership\n",
      "       enrich step 10/16 calculate county\n",
      "       enrich step 11/16 calculate region\n",
      "       enrich step 12/16 calculate veg type\n",
      "       enrich step 13/16 Initiating Crosswalk\n",
      "      Calculating Crosswalking Activites...\n",
      "          cross step 1/8 add join\n",
      "          cross step 2/8 calculate activities\n",
      "          cross step 3/8 calculate residue fate field\n",
      "          cross step 4/8 select attribute by layer\n",
      "          cross step 5/8 calculating objective...\n",
      "          cross step 6/8 calculate category\n",
      "      Calculate Activity Category Step 1/1\n",
      "          cross step 7/8 standardize domains\n",
      "          cross step 8/8 counts towards MAS\n",
      "      Calculating 'Counts to MAS'\n",
      "        counts step 1/8: set to 'NO'\n",
      "        counts step 2/8: select by bounding years (2020-2023)\n",
      "             this step is redundant and therefore skipped\n",
      "        counts step 3/8: set to 'YES' if activity description is in the list\n",
      "        counts step 3/8: set to 'NO' if not 'Acres'\n",
      "        counts step 4/8: set to 'NO' if status is 'Canceled', 'Planned', 'Outyear', or 'Proposed'\n",
      "        counts step 5/8: set to 'NO' if Activity Category is 'Watershed Improvement'\n",
      "        counts step 6/8: set to 'NO' if Agency is 'Other' and Admin is 'CARB'\n",
      "        counts step 7/8: set to 'NO' if Org is 'USFS' and Status is 'Active'\n",
      "        counts step 8/8: set to 'NO' if Admin is in the list\n",
      "          removing unnecessary fields\n",
      "        field_list before: ['OBJECTID', 'Shape', 'Join_Count', 'TARGET_FID', 'Join_Count_1', 'TARGET_FID_1', 'Join_Count_12', 'TARGET_FID_12', 'Latitude', 'Longitude', 'PROJECTID_USER', 'AGENCY', 'ORG_ADMIN_p', 'PROJECT_CONTACT', 'PROJECT_EMAIL', 'ADMINISTERING_ORG', 'PROJECT_NAME', 'PROJECT_STATUS', 'PROJECT_START', 'PROJECT_END', 'PRIMARY_FUNDING_SOURCE', 'PRIMARY_FUNDING_ORG', 'IMPLEMENTING_ORG', 'BatchID_p', 'Val_Status_p', 'Val_MSG_p', 'Val_RunDate_p', 'Review_Status_p', 'Review_MSG_p', 'Review_RunDate_p', 'Dataload_Status_p', 'Dataload_Msg_p', 'TRMTID_USER', 'PROJECTID', 'PROJECTNAME_', 'ORG_ADMIN_t', 'PRIMARY_OWNERSHIP_GROUP', 'PRIMARY_OBJECTIVE', 'SECONDARY_OBJECTIVE', 'TERTIARY_OBJECTIVE', 'TREATMENT_STATUS', 'COUNTY', 'IN_WUI', 'REGION', 'TREATMENT_AREA', 'TREATMENT_START', 'TREATMENT_END', 'RETREATMENT_DATE_EST', 'TREATMENT_NAME', 'BatchID', 'Val_Status_t', 'Val_MSG_t', 'Val_RunDate_t', 'Review_Status_t', 'Review_Msg_t', 'Review_RunDate_t', 'Dataload_Status_t', 'Dataload_Msg_t', 'ACTIVID_USER', 'TREATMENTID_', 'ORG_ADMIN_a', 'ACTIVITY_DESCRIPTION', 'ACTIVITY_CAT', 'BROAD_VEGETATION_TYPE', 'BVT_USERD', 'ACTIVITY_STATUS', 'ACTIVITY_QUANTITY', 'ACTIVITY_UOM', 'ACTIVITY_START', 'ACTIVITY_END', 'ADMIN_ORG_NAME', 'IMPLEM_ORG_NAME', 'PRIMARY_FUND_SRC_NAME', 'PRIMARY_FUND_ORG_NAME', 'SECONDARY_FUND_SRC_NAME', 'SECONDARY_FUND_ORG_NAME', 'TERTIARY_FUND_SRC_NAME', 'TERTIARY_FUND_ORG_NAME', 'ACTIVITY_PRCT', 'RESIDUE_FATE', 'RESIDUE_FATE_QUANTITY', 'RESIDUE_FATE_UNITS', 'ACTIVITY_NAME', 'VAL_STATUS_a', 'VAL_MSG_a', 'VAL_RUNDATE_a', 'REVIEW_STATUS_a', 'REVIEW_MSG_a', 'REVIEW_RUNDATE_a', 'DATALOAD_STATUS_a', 'DATALOAD_MSG_a', 'Source', 'Year', 'Year_txt', 'Act_Code', 'Crosswalk', 'Federal_FY', 'State_FY', 'TRMT_GEOM', 'COUNTS_TO_MAS', 'AGNCY_LEV', 'COUNTY_1', 'GIS_ACRES', 'Region_1', 'GIS_Acres_1', 'Id', 'gridcode', 'WHR13NAME']\n",
      "        field_list after: ['OBJECTID', 'Shape', 'Latitude', 'Longitude', 'PROJECTID_USER', 'AGENCY', 'ORG_ADMIN_p', 'PROJECT_CONTACT', 'PROJECT_EMAIL', 'ADMINISTERING_ORG', 'PROJECT_NAME', 'PROJECT_STATUS', 'PROJECT_START', 'PROJECT_END', 'PRIMARY_FUNDING_SOURCE', 'PRIMARY_FUNDING_ORG', 'IMPLEMENTING_ORG', 'BatchID_p', 'Val_Status_p', 'Val_MSG_p', 'Val_RunDate_p', 'Review_Status_p', 'Review_MSG_p', 'Review_RunDate_p', 'Dataload_Status_p', 'Dataload_Msg_p', 'TRMTID_USER', 'PROJECTID', 'PROJECTNAME_', 'ORG_ADMIN_t', 'PRIMARY_OWNERSHIP_GROUP', 'PRIMARY_OBJECTIVE', 'SECONDARY_OBJECTIVE', 'TERTIARY_OBJECTIVE', 'TREATMENT_STATUS', 'COUNTY', 'IN_WUI', 'REGION', 'TREATMENT_AREA', 'TREATMENT_START', 'TREATMENT_END', 'RETREATMENT_DATE_EST', 'TREATMENT_NAME', 'BatchID', 'Val_Status_t', 'Val_MSG_t', 'Val_RunDate_t', 'Review_Status_t', 'Review_Msg_t', 'Review_RunDate_t', 'Dataload_Status_t', 'Dataload_Msg_t', 'ACTIVID_USER', 'TREATMENTID_', 'ORG_ADMIN_a', 'ACTIVITY_DESCRIPTION', 'ACTIVITY_CAT', 'BROAD_VEGETATION_TYPE', 'BVT_USERD', 'ACTIVITY_STATUS', 'ACTIVITY_QUANTITY', 'ACTIVITY_UOM', 'ACTIVITY_START', 'ACTIVITY_END', 'ADMIN_ORG_NAME', 'IMPLEM_ORG_NAME', 'PRIMARY_FUND_SRC_NAME', 'PRIMARY_FUND_ORG_NAME', 'SECONDARY_FUND_SRC_NAME', 'SECONDARY_FUND_ORG_NAME', 'TERTIARY_FUND_SRC_NAME', 'TERTIARY_FUND_ORG_NAME', 'ACTIVITY_PRCT', 'RESIDUE_FATE', 'RESIDUE_FATE_QUANTITY', 'RESIDUE_FATE_UNITS', 'ACTIVITY_NAME', 'VAL_STATUS_a', 'VAL_MSG_a', 'VAL_RUNDATE_a', 'REVIEW_STATUS_a', 'REVIEW_MSG_a', 'REVIEW_RUNDATE_a', 'DATALOAD_STATUS_a', 'DATALOAD_MSG_a', 'Source', 'Year', 'Year_txt', 'Act_Code', 'Crosswalk', 'Federal_FY', 'State_FY', 'TRMT_GEOM', 'COUNTS_TO_MAS']\n",
      "     Crosswalk Complete, Continuing Enrichment\n",
      "       enrich step 14/16 Calculating Years\n"
     ]
    },
    {
     "ename": "AttributeError",
     "evalue": "'NoneType' object has no attribute 'year'",
     "output_type": "error",
     "traceback": [
      "\u001b[1;31m---------------------------------------------------------------------------\u001b[0m",
      "\u001b[1;31mAttributeError\u001b[0m                            Traceback (most recent call last)",
      "File \u001b[1;32m<expression>:1\u001b[0m\n",
      "\u001b[1;31mAttributeError\u001b[0m: 'NoneType' object has no attribute 'year'"
     ]
    },
    {
     "name": "stdout",
     "output_type": "stream",
     "text": [
      "       enrich step 15/16 Calculating Latitude and Longitude\n",
      "       enrich step 16/16 removing unnecessary fields\n",
      "          removing unnecessary fields\n",
      "        field_list before: ['OBJECTID', 'Shape', 'Latitude', 'Longitude', 'PROJECTID_USER', 'AGENCY', 'ORG_ADMIN_p', 'PROJECT_CONTACT', 'PROJECT_EMAIL', 'ADMINISTERING_ORG', 'PROJECT_NAME', 'PROJECT_STATUS', 'PROJECT_START', 'PROJECT_END', 'PRIMARY_FUNDING_SOURCE', 'PRIMARY_FUNDING_ORG', 'IMPLEMENTING_ORG', 'BatchID_p', 'Val_Status_p', 'Val_MSG_p', 'Val_RunDate_p', 'Review_Status_p', 'Review_MSG_p', 'Review_RunDate_p', 'Dataload_Status_p', 'Dataload_Msg_p', 'TRMTID_USER', 'PROJECTID', 'PROJECTNAME_', 'ORG_ADMIN_t', 'PRIMARY_OWNERSHIP_GROUP', 'PRIMARY_OBJECTIVE', 'SECONDARY_OBJECTIVE', 'TERTIARY_OBJECTIVE', 'TREATMENT_STATUS', 'COUNTY', 'IN_WUI', 'REGION', 'TREATMENT_AREA', 'TREATMENT_START', 'TREATMENT_END', 'RETREATMENT_DATE_EST', 'TREATMENT_NAME', 'BatchID', 'Val_Status_t', 'Val_MSG_t', 'Val_RunDate_t', 'Review_Status_t', 'Review_Msg_t', 'Review_RunDate_t', 'Dataload_Status_t', 'Dataload_Msg_t', 'ACTIVID_USER', 'TREATMENTID_', 'ORG_ADMIN_a', 'ACTIVITY_DESCRIPTION', 'ACTIVITY_CAT', 'BROAD_VEGETATION_TYPE', 'BVT_USERD', 'ACTIVITY_STATUS', 'ACTIVITY_QUANTITY', 'ACTIVITY_UOM', 'ACTIVITY_START', 'ACTIVITY_END', 'ADMIN_ORG_NAME', 'IMPLEM_ORG_NAME', 'PRIMARY_FUND_SRC_NAME', 'PRIMARY_FUND_ORG_NAME', 'SECONDARY_FUND_SRC_NAME', 'SECONDARY_FUND_ORG_NAME', 'TERTIARY_FUND_SRC_NAME', 'TERTIARY_FUND_ORG_NAME', 'ACTIVITY_PRCT', 'RESIDUE_FATE', 'RESIDUE_FATE_QUANTITY', 'RESIDUE_FATE_UNITS', 'ACTIVITY_NAME', 'VAL_STATUS_a', 'VAL_MSG_a', 'VAL_RUNDATE_a', 'REVIEW_STATUS_a', 'REVIEW_MSG_a', 'REVIEW_RUNDATE_a', 'DATALOAD_STATUS_a', 'DATALOAD_MSG_a', 'Source', 'Year', 'Year_txt', 'Act_Code', 'Crosswalk', 'Federal_FY', 'State_FY', 'TRMT_GEOM', 'COUNTS_TO_MAS']\n",
      "        field_list after: ['OBJECTID', 'Shape', 'Latitude', 'Longitude', 'PROJECTID_USER', 'AGENCY', 'ORG_ADMIN_p', 'PROJECT_CONTACT', 'PROJECT_EMAIL', 'ADMINISTERING_ORG', 'PROJECT_NAME', 'PROJECT_STATUS', 'PROJECT_START', 'PROJECT_END', 'PRIMARY_FUNDING_SOURCE', 'PRIMARY_FUNDING_ORG', 'IMPLEMENTING_ORG', 'BatchID_p', 'Val_Status_p', 'Val_MSG_p', 'Val_RunDate_p', 'Review_Status_p', 'Review_MSG_p', 'Review_RunDate_p', 'Dataload_Status_p', 'Dataload_Msg_p', 'TRMTID_USER', 'PROJECTID', 'PROJECTNAME_', 'ORG_ADMIN_t', 'PRIMARY_OWNERSHIP_GROUP', 'PRIMARY_OBJECTIVE', 'SECONDARY_OBJECTIVE', 'TERTIARY_OBJECTIVE', 'TREATMENT_STATUS', 'COUNTY', 'IN_WUI', 'REGION', 'TREATMENT_AREA', 'TREATMENT_START', 'TREATMENT_END', 'RETREATMENT_DATE_EST', 'TREATMENT_NAME', 'BatchID', 'Val_Status_t', 'Val_MSG_t', 'Val_RunDate_t', 'Review_Status_t', 'Review_Msg_t', 'Review_RunDate_t', 'Dataload_Status_t', 'Dataload_Msg_t', 'ACTIVID_USER', 'TREATMENTID_', 'ORG_ADMIN_a', 'ACTIVITY_DESCRIPTION', 'ACTIVITY_CAT', 'BROAD_VEGETATION_TYPE', 'BVT_USERD', 'ACTIVITY_STATUS', 'ACTIVITY_QUANTITY', 'ACTIVITY_UOM', 'ACTIVITY_START', 'ACTIVITY_END', 'ADMIN_ORG_NAME', 'IMPLEM_ORG_NAME', 'PRIMARY_FUND_SRC_NAME', 'PRIMARY_FUND_ORG_NAME', 'SECONDARY_FUND_SRC_NAME', 'SECONDARY_FUND_ORG_NAME', 'TERTIARY_FUND_SRC_NAME', 'TERTIARY_FUND_ORG_NAME', 'ACTIVITY_PRCT', 'RESIDUE_FATE', 'RESIDUE_FATE_QUANTITY', 'RESIDUE_FATE_UNITS', 'ACTIVITY_NAME', 'VAL_STATUS_a', 'VAL_MSG_a', 'VAL_RUNDATE_a', 'REVIEW_STATUS_a', 'REVIEW_MSG_a', 'REVIEW_RUNDATE_a', 'DATALOAD_STATUS_a', 'DATALOAD_MSG_a', 'Source', 'Year', 'Year_txt', 'Act_Code', 'Crosswalk', 'Federal_FY', 'State_FY', 'TRMT_GEOM', 'COUNTS_TO_MAS']\n",
      "   Enrich Points Complete...\n",
      "     Enrichment Points script took: 0h, 16m, 56.0s to complete\n",
      "Saving Output Enriched\n",
      "     enriched has 12175 records\n",
      "      assigning domains\n",
      "PFIRS script took: 0h, 17m, 13.0s to complete\n"
     ]
    }
   ],
   "source": [
    "PFIRS(\n",
    "    input_fc, \n",
    "    lookup_table_path,\n",
    "    output_enriched, \n",
    "    treat_poly\n",
    "    )"
   ]
  },
  {
   "cell_type": "code",
   "execution_count": 8,
   "metadata": {},
   "outputs": [],
   "source": [
    "import geopandas as gpd"
   ]
  },
  {
   "cell_type": "code",
   "execution_count": 9,
   "metadata": {},
   "outputs": [
    {
     "name": "stderr",
     "output_type": "stream",
     "text": [
      "PROJ: proj_create_from_database: Cannot find proj.db\n"
     ]
    }
   ],
   "source": [
    "pfirs_gdf = gpd.read_file(workspace, driver='OpenFileGDB', layer=os.path.basename(output_enriched))"
   ]
  },
  {
   "cell_type": "code",
   "execution_count": 15,
   "metadata": {},
   "outputs": [
    {
     "data": {
      "text/html": [
       "<div>\n",
       "<style scoped>\n",
       "    .dataframe tbody tr th:only-of-type {\n",
       "        vertical-align: middle;\n",
       "    }\n",
       "\n",
       "    .dataframe tbody tr th {\n",
       "        vertical-align: top;\n",
       "    }\n",
       "\n",
       "    .dataframe thead th {\n",
       "        text-align: right;\n",
       "    }\n",
       "</style>\n",
       "<table border=\"1\" class=\"dataframe\">\n",
       "  <thead>\n",
       "    <tr style=\"text-align: right;\">\n",
       "      <th></th>\n",
       "      <th>ACTIVITY_QUANTITY</th>\n",
       "    </tr>\n",
       "    <tr>\n",
       "      <th>ADMINISTERING_ORG</th>\n",
       "      <th></th>\n",
       "    </tr>\n",
       "  </thead>\n",
       "  <tbody>\n",
       "    <tr>\n",
       "      <th>California State Parks</th>\n",
       "      <td>8016.890</td>\n",
       "    </tr>\n",
       "    <tr>\n",
       "      <th>DOD</th>\n",
       "      <td>20768.330</td>\n",
       "    </tr>\n",
       "    <tr>\n",
       "      <th>TIMBER</th>\n",
       "      <td>35384.700</td>\n",
       "    </tr>\n",
       "    <tr>\n",
       "      <th>US Department of Energy</th>\n",
       "      <td>14967.645</td>\n",
       "    </tr>\n",
       "  </tbody>\n",
       "</table>\n",
       "</div>"
      ],
      "text/plain": [
       "                         ACTIVITY_QUANTITY\n",
       "ADMINISTERING_ORG                         \n",
       "California State Parks            8016.890\n",
       "DOD                              20768.330\n",
       "TIMBER                           35384.700\n",
       "US Department of Energy          14967.645"
      ]
     },
     "execution_count": 15,
     "metadata": {},
     "output_type": "execute_result"
    }
   ],
   "source": [
    "pfirs_gdf[pfirs_gdf['COUNTS_TO_MAS'] == 'YES'][['ADMINISTERING_ORG', 'ACTIVITY_QUANTITY']].groupby(['ADMINISTERING_ORG']).sum()"
   ]
  },
  {
   "cell_type": "code",
   "execution_count": null,
   "metadata": {},
   "outputs": [],
   "source": []
  }
 ],
 "metadata": {
  "kernelspec": {
   "display_name": "Python 3 (ipykernel)",
   "language": "python",
   "name": "python3"
  },
  "language_info": {
   "codemirror_mode": {
    "name": "ipython",
    "version": 3
   },
   "file_extension": ".py",
   "mimetype": "text/x-python",
   "name": "python",
   "nbconvert_exporter": "python",
   "pygments_lexer": "ipython3",
   "version": "3.9.11"
  },
  "vscode": {
   "interpreter": {
    "hash": "ce21b655b4d6c9e397d5ad93d5666c623f49909f6d0cc2f72076dafcf1b3ecfb"
   }
  }
 },
 "nbformat": 4,
 "nbformat_minor": 4
}

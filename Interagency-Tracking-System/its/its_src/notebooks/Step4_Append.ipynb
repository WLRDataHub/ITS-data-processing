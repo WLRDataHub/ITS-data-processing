{
 "cells": [
  {
   "cell_type": "code",
   "execution_count": 1,
   "metadata": {},
   "outputs": [],
   "source": [
    "import sys\n",
    "sys.path.append('../')"
   ]
  },
  {
   "cell_type": "code",
   "execution_count": 2,
   "metadata": {},
   "outputs": [],
   "source": [
    "\"\"\"\n",
    "# Description: Consolidates all standardized and enriched datasets into a\n",
    "#              point, line, and polygon feature class.\n",
    "# Author: Spatial Informatics Group LLC\n",
    "# Version: 1.0.0\n",
    "# Date Created: Jan 24, 2024\n",
    "\"\"\"\n",
    "import os\n",
    "import datetime\n",
    "import arcpy\n",
    "from scripts._1_assign_domains import AssignDomains\n",
    "from scripts.utils import init_gdb, og_file_input \n",
    "from scripts._4_metadata_append import pt_metadata, ln_metadata, poly_metadata\n",
    "from scripts._3_category import Category\n",
    "\n",
    "workspace, scratch_workspace = init_gdb()\n",
    "\n",
    "date_id = datetime.datetime.now().strftime(\"%Y-%m-%d\").replace('-','') # like 20221216\n",
    "\n",
    "# Reference\n",
    "WFR_TF_Template = os.path.join(workspace,'a_Reference','WFR_TF_Template')\n"
   ]
  },
  {
   "cell_type": "code",
   "execution_count": 3,
   "metadata": {},
   "outputs": [],
   "source": [
    "year = str(2023)"
   ]
  },
  {
   "cell_type": "code",
   "execution_count": 4,
   "metadata": {},
   "outputs": [
    {
     "name": "stdout",
     "output_type": "stream",
     "text": [
      "      assigning domains\n",
      "Point Metadata added successfully.\n"
     ]
    }
   ],
   "source": [
    "## POINTS\n",
    "# INPUTS\n",
    "\n",
    "nfpors_pt = og_file_input(prefix = 'nfpors_fuels_treatments_pts_enriched'+year, filetype = 'Point', gdb = os.path.join(workspace, 'c_Enriched'))\n",
    "nfpors_fuels_treatments_pts_enriched = os.path.join(workspace,'c_Enriched', nfpors_pt)\n",
    "\n",
    "\n",
    "pfirs_pt = og_file_input(prefix = 'PFIRS_enriched'+year, filetype = 'Point', gdb = os.path.join(workspace, 'c_Enriched'))\n",
    "PFIRS_enriched = os.path.join(workspace,'c_Enriched', pfirs_pt)\n",
    "\n",
    "cnra_pt = og_file_input(prefix = 'CNRA_enriched_pt'+year, filetype = 'Point', gdb = os.path.join(workspace, 'c_Enriched'))\n",
    "CNRA_Enriched_pt = os.path.join(workspace,'c_Enriched',cnra_pt)\n",
    "\n",
    "### TEMP: timber industry\n",
    "timber_enriched_pt = []\n",
    "for y in [2021, 2022, 2023]:\n",
    "    timber_pt = og_file_input(prefix = 'Timber_Industry_enriched'+str(y), filetype = 'Point', gdb = os.path.join(workspace, 'c_Enriched'))\n",
    "    timber_enriched_pt.append(os.path.join(workspace,'c_Enriched',timber_pt))\n",
    "\n",
    "\n",
    "with arcpy.EnvManager(\n",
    "        workspace=workspace,\n",
    "        scratchWorkspace=scratch_workspace, \n",
    "        outputCoordinateSystem= arcpy.SpatialReference(\"NAD 1983 California (Teale) Albers (Meters)\"), #WKID 3310\n",
    "        cartographicCoordinateSystem=arcpy.SpatialReference(\"NAD 1983 California (Teale) Albers (Meters)\"), #WKID 3310\n",
    "        extent=\"xmin=-374900, ymin=-604500, xmax=540100, ymax=450000, spatial_reference='NAD 1983 California (Teale) Albers (Meters)'\", \n",
    "        preserveGlobalIds=True, \n",
    "        qualifiedFieldNames=False, \n",
    "        transferDomains=False, \n",
    "        transferGDBAttributeProperties=False, \n",
    "        overwriteOutput = True,\n",
    "):\n",
    "    ### ITS_POINTS/LINES/POLYGONS\n",
    "    points = arcpy.management.CreateFeatureclass(\n",
    "        out_path=os.path.join(workspace,'d_Appended'), \n",
    "        out_name=f\"Treat_n_harvests_points{year}_{date_id}\", \n",
    "        geometry_type=\"POINT\", \n",
    "        template=[WFR_TF_Template], \n",
    "        spatial_reference=3310, #\"NAD 1983 California (Teale) Albers (Meters)\"), \n",
    "        )\n",
    "\n",
    "    point_append = arcpy.management.Append(\n",
    "        inputs=[nfpors_fuels_treatments_pts_enriched, \n",
    "                CNRA_Enriched_pt, \n",
    "                PFIRS_enriched\n",
    "               ] + timber_enriched_pt, \n",
    "        target=points, \n",
    "        schema_type=\"NO_TEST\", \n",
    "        field_mapping=\"\", \n",
    "        )\n",
    "\n",
    "    AssignDomains(in_table=point_append)\n",
    "\n",
    "    point_append_md = pt_metadata(point_append)    \n"
   ]
  },
  {
   "cell_type": "code",
   "execution_count": 5,
   "metadata": {},
   "outputs": [
    {
     "name": "stdout",
     "output_type": "stream",
     "text": [
      "NFPORS:  185\n",
      "CNRA:  2849\n",
      "PFIRS:  12175\n",
      "TIMBER:  72\n",
      "ALL:  15281\n"
     ]
    }
   ],
   "source": [
    "print(\"NFPORS: \", arcpy.management.GetCount(nfpors_fuels_treatments_pts_enriched)[0])\n",
    "print(\"CNRA: \", arcpy.management.GetCount(CNRA_Enriched_pt)[0])\n",
    "print(\"PFIRS: \", arcpy.management.GetCount(PFIRS_enriched)[0])\n",
    "print(\"TIMBER: \", sum([int(arcpy.management.GetCount(d)[0]) for d in timber_enriched_pt]))\n",
    "print(\"ALL: \", arcpy.management.GetCount(point_append)[0])"
   ]
  },
  {
   "cell_type": "code",
   "execution_count": 6,
   "metadata": {},
   "outputs": [
    {
     "name": "stdout",
     "output_type": "stream",
     "text": [
      "      assigning domains\n",
      "Line Metadata added successfully.\n"
     ]
    }
   ],
   "source": [
    "##LINES\n",
    "# Inputs\n",
    "\n",
    "### TEMP: comment out PFIRS and CalTrans due to reproducibility issue\n",
    "caltrans_ln = og_file_input(prefix = 'CalTrans_act_ln_enriched'+year, filetype = 'Line', gdb = os.path.join(workspace, 'c_Enriched'))\n",
    "CalTrans_act_ln_enriched = os.path.join(workspace,'c_Enriched', caltrans_ln)\n",
    "\n",
    "cnra_ln = og_file_input(prefix = 'CNRA_enriched_ln'+year, filetype = 'Line', gdb = os.path.join(workspace, 'c_Enriched'))\n",
    "CNRA_Enriched_ln = os.path.join(workspace,'c_Enriched',cnra_ln)\n",
    "\n",
    "with arcpy.EnvManager(\n",
    "        workspace=workspace,\n",
    "        scratchWorkspace=scratch_workspace, \n",
    "        outputCoordinateSystem= arcpy.SpatialReference(\"NAD 1983 California (Teale) Albers (Meters)\"), #WKID 3310\n",
    "        cartographicCoordinateSystem=arcpy.SpatialReference(\"NAD 1983 California (Teale) Albers (Meters)\"), #WKID 3310\n",
    "        extent=\"xmin=-374900, ymin=-604500, xmax=540100, ymax=450000, spatial_reference='NAD 1983 California (Teale) Albers (Meters)'\", \n",
    "        preserveGlobalIds=True, \n",
    "        qualifiedFieldNames=False, \n",
    "        transferDomains=False, \n",
    "        transferGDBAttributeProperties=False, \n",
    "        overwriteOutput = True,\n",
    "):\n",
    "    \n",
    "    lines = arcpy.management.CreateFeatureclass(\n",
    "        out_path=os.path.join(workspace,'d_Appended'), \n",
    "        out_name=f\"Treat_n_harvests_lines{year}_{date_id}\", \n",
    "        geometry_type=\"POLYLINE\", \n",
    "        template=[WFR_TF_Template], \n",
    "        spatial_reference=3310, #\"NAD 1983 California (Teale) Albers (Meters)\", \n",
    "    )\n",
    "\n",
    "    lines_append = arcpy.management.Append(\n",
    "        inputs=[CalTrans_act_ln_enriched, \n",
    "                CNRA_Enriched_ln\n",
    "                ], \n",
    "        target=lines, \n",
    "        schema_type=\"NO_TEST\", \n",
    "        field_mapping=\"\", \n",
    "\n",
    "        )\n",
    "\n",
    "    AssignDomains(in_table=lines_append)\n",
    "\n",
    "    lines_append_md = ln_metadata(lines_append) \n"
   ]
  },
  {
   "cell_type": "code",
   "execution_count": 7,
   "metadata": {},
   "outputs": [
    {
     "name": "stdout",
     "output_type": "stream",
     "text": [
      "CalTrans:  103427\n",
      "CNRA:  312\n",
      "ALL:  103739\n"
     ]
    }
   ],
   "source": [
    "print(\"CalTrans: \", arcpy.management.GetCount(CalTrans_act_ln_enriched)[0])\n",
    "print(\"CNRA: \", arcpy.management.GetCount(CNRA_Enriched_ln)[0])\n",
    "print(\"ALL: \", arcpy.management.GetCount(lines_append)[0])"
   ]
  },
  {
   "cell_type": "code",
   "execution_count": 8,
   "metadata": {},
   "outputs": [
    {
     "name": "stdout",
     "output_type": "stream",
     "text": [
      "      assigning domains\n",
      "Polygon Metadata added successfully.\n"
     ]
    }
   ],
   "source": [
    "## POLYGON\n",
    "# Inputs\n",
    "blm_poly = og_file_input(prefix = 'BLM_enriched'+year, filetype = 'Polygon', gdb = os.path.join(workspace, 'c_Enriched'))\n",
    "BLM_enriched = os.path.join(workspace,'c_Enriched',blm_poly)\n",
    "\n",
    "cnra_poly = og_file_input(prefix = 'CNRA_enriched_poly'+year, filetype = 'Polygon', gdb = os.path.join(workspace, 'c_Enriched'))\n",
    "CNRA_Enriched_poly = os.path.join(workspace,'c_Enriched',cnra_poly)\n",
    "\n",
    "nfpors_poly = og_file_input(prefix = 'nfpors_fuels_treatments_polys_enriched'+year, filetype = 'Polygon', gdb = os.path.join(workspace, 'c_Enriched'))\n",
    "nfpors_fuels_treatments_enriched = os.path.join(workspace,'c_Enriched', nfpors_poly)\n",
    "\n",
    "nps_poly = og_file_input(prefix = 'nps_flat_fuels_enriched'+year, filetype = 'Polygon', gdb = os.path.join(workspace, 'c_Enriched'))\n",
    "nps_flat_fuels_enriched = os.path.join(workspace,'c_Enriched',nps_poly)\n",
    "\"\"\"\n",
    "try:\n",
    "    usfs_poly = og_file_input(prefix = 'usfs_edw_facts_common_attributes_enriched_'+year, filetype = 'Polygon', gdb = os.path.join(workspace, 'c_Enriched'))\n",
    "    usfs_edw_facts_common_attributes_enriched = [os.path.join(workspace,'c_Enriched',usfs_poly)]\n",
    "except:\n",
    "    if year!='2022':\n",
    "        usfs_poly_04 = og_file_input(prefix = 'usfs_edw_facts_common_attributes_enriched', filetype = 'Polygon', gdb = os.path.join(workspace, 'c_Enriched'), suffix=\"04_\"+year)\n",
    "        usfs_poly_05 = og_file_input(prefix = 'usfs_edw_facts_common_attributes_enriched', filetype = 'Polygon', gdb = os.path.join(workspace, 'c_Enriched'), suffix=\"05_\"+year)\n",
    "        usfs_poly_06 = og_file_input(prefix = 'usfs_edw_facts_common_attributes_enriched', filetype = 'Polygon', gdb = os.path.join(workspace, 'c_Enriched'), suffix=\"06_\"+year)\n",
    "        usfs_edw_facts_common_attributes_enriched = [os.path.join(workspace,'c_Enriched',usfs_poly) for usfs_poly in [usfs_poly_04, usfs_poly_05, usfs_poly_06]]\n",
    "    else:\n",
    "        raise Exception(\"NO MATCHING DATA\")\n",
    "\"\"\"\n",
    "usfs_prefix = \"usfs_edw_facts_common_attributes_enriched_Actv_CommonAttribute_PL_Region{}_2023\"\n",
    "\n",
    "usfs_edw_facts_common_attributes_enriched = [os.path.join(workspace,\n",
    "                                                          'c_Enriched',\n",
    "                                                          og_file_input(\n",
    "                                                              prefix = usfs_prefix.format(usfs_poly),\n",
    "                                                              filetype = 'Polygon', gdb = os.path.join(workspace, 'c_Enriched')\n",
    "                                                          )\n",
    "                                                         ) for usfs_poly in [\"04\", \"05\", \"06\"]]\n",
    "with arcpy.EnvManager(\n",
    "        workspace=workspace,\n",
    "        scratchWorkspace=scratch_workspace, \n",
    "        outputCoordinateSystem= arcpy.SpatialReference(\"NAD 1983 California (Teale) Albers (Meters)\"), #WKID 3310\n",
    "        cartographicCoordinateSystem=arcpy.SpatialReference(\"NAD 1983 California (Teale) Albers (Meters)\"), #WKID 3310\n",
    "        extent=\"xmin=-374900, ymin=-604500, xmax=540100, ymax=450000, spatial_reference='NAD 1983 California (Teale) Albers (Meters)'\", \n",
    "        preserveGlobalIds=True, \n",
    "        qualifiedFieldNames=False, \n",
    "        transferDomains=False, \n",
    "        transferGDBAttributeProperties=False, \n",
    "        overwriteOutput = True,\n",
    "):\n",
    "\n",
    "    polygons = arcpy.management.CreateFeatureclass(\n",
    "        out_path=os.path.join(workspace,'d_Appended'), \n",
    "        out_name=f\"Treat_n_harvests_polygons{year}_{date_id}\", \n",
    "        geometry_type=\"POLYGON\", \n",
    "        template=[WFR_TF_Template], \n",
    "        spatial_reference=3310, #\"NAD 1983 California (Teale) Albers (Meters)\", \n",
    "        )\n",
    "\n",
    "    polygons_append = arcpy.management.Append(\n",
    "        inputs=[\n",
    "                nfpors_fuels_treatments_enriched, \n",
    "                nps_flat_fuels_enriched, \n",
    "                CNRA_Enriched_poly, \n",
    "                BLM_enriched\n",
    "                ] + usfs_edw_facts_common_attributes_enriched, # usfs 2023 is 3 seperate files\n",
    "        target=polygons, \n",
    "        schema_type=\"NO_TEST\", \n",
    "        field_mapping=\"\", \n",
    "        )\n",
    "\n",
    "    AssignDomains(in_table=polygons_append)\n",
    "\n",
    "    polygons_append_md = poly_metadata(polygons_append) \n"
   ]
  },
  {
   "cell_type": "code",
   "execution_count": 9,
   "metadata": {},
   "outputs": [
    {
     "name": "stdout",
     "output_type": "stream",
     "text": [
      "NFPORS:  661\n",
      "CNRA:  24777\n",
      "NPS:  160\n",
      "BLM:  353\n",
      "USFS:  31596\n",
      "ALL:  57547\n"
     ]
    }
   ],
   "source": [
    "print(\"NFPORS: \", arcpy.management.GetCount(nfpors_fuels_treatments_enriched)[0])\n",
    "print(\"CNRA: \", arcpy.management.GetCount(CNRA_Enriched_poly)[0])\n",
    "print(\"NPS: \", arcpy.management.GetCount(nps_flat_fuels_enriched)[0])\n",
    "print(\"BLM: \", arcpy.management.GetCount(BLM_enriched)[0])\n",
    "print(\"USFS: \", sum([int(arcpy.management.GetCount(d)[0]) for d in usfs_edw_facts_common_attributes_enriched]))\n",
    "print(\"ALL: \", arcpy.management.GetCount(polygons_append)[0]) "
   ]
  },
  {
   "cell_type": "code",
   "execution_count": 10,
   "metadata": {},
   "outputs": [],
   "source": [
    "from scripts._3_category import Category"
   ]
  },
  {
   "cell_type": "code",
   "execution_count": 11,
   "metadata": {},
   "outputs": [
    {
     "name": "stdout",
     "output_type": "stream",
     "text": [
      "      Calculate Activity Category Step 1/1\n",
      "      Calculate Activity Category Step 1/1\n",
      "      Calculate Activity Category Step 1/1\n"
     ]
    },
    {
     "data": {
      "text/html": [
       "<div class='gpresult'><h2>Messages</h2><div id='messages' data-messages='[\"Start Time: Monday, September 30, 2024 3:37:11 PM\",\"Succeeded at Monday, September 30, 2024 3:37:12 PM (Elapsed Time: 1.39 seconds)\"]' data-show='true'><div id = 'default' /></div></div>"
      ],
      "text/plain": [
       "<Result 'D:\\\\WORK\\\\wildfire\\\\Interagency-Tracking-System\\\\its\\\\Interagency Tracking System.gdb\\\\d_Appended\\\\Treat_n_harvests_polygons2023_20240930'>"
      ]
     },
     "execution_count": 11,
     "metadata": {},
     "output_type": "execute_result"
    }
   ],
   "source": [
    "Category(point_append)\n",
    "Category(lines_append)\n",
    "Category(polygons_append)"
   ]
  },
  {
   "cell_type": "code",
   "execution_count": null,
   "metadata": {},
   "outputs": [],
   "source": []
  }
 ],
 "metadata": {
  "kernelspec": {
   "display_name": "Python 3 (ipykernel)",
   "language": "python",
   "name": "python3"
  },
  "language_info": {
   "codemirror_mode": {
    "name": "ipython",
    "version": 3
   },
   "file_extension": ".py",
   "mimetype": "text/x-python",
   "name": "python",
   "nbconvert_exporter": "python",
   "pygments_lexer": "ipython3",
   "version": "3.9.11"
  }
 },
 "nbformat": 4,
 "nbformat_minor": 4
}

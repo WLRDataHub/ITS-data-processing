{
 "cells": [
  {
   "cell_type": "code",
   "execution_count": 1,
   "id": "69919d33-be93-40b6-89d3-8ca13a68a8ac",
   "metadata": {},
   "outputs": [],
   "source": [
    "import sys\n",
    "sys.path.append('../')"
   ]
  },
  {
   "cell_type": "code",
   "execution_count": 2,
   "id": "13a00fb9-2f19-43e7-a463-1742feb5936c",
   "metadata": {},
   "outputs": [],
   "source": [
    "import arcpy\n",
    "import os\n",
    "import zipfile\n",
    "import shutil"
   ]
  },
  {
   "cell_type": "code",
   "execution_count": 3,
   "id": "bdf1d03b-7339-40b1-877a-809d2eab375d",
   "metadata": {},
   "outputs": [
    {
     "name": "stdin",
     "output_type": "stream",
     "text": [
      "Enter password:  ········\n"
     ]
    }
   ],
   "source": [
    "import arcgis\n",
    "from arcgis.gis import GIS\n",
    "\n",
    "gis = arcgis.gis.GIS(\"https://portal.sparcal.sdsc.edu/arcgis\", \"johnnylei\")\n"
   ]
  },
  {
   "cell_type": "code",
   "execution_count": 4,
   "id": "23835187-74b8-4f41-93c1-f2755744e627",
   "metadata": {},
   "outputs": [],
   "source": [
    "from scripts.utils import init_gdb, og_file_input\n",
    "workspace, scratch_workspace = init_gdb()"
   ]
  },
  {
   "cell_type": "code",
   "execution_count": null,
   "id": "f03d4101-e68b-43c1-a471-bd640edf89af",
   "metadata": {},
   "outputs": [],
   "source": []
  },
  {
   "cell_type": "code",
   "execution_count": 5,
   "id": "3be030a3-9910-406d-ad14-8eadd3e45dc1",
   "metadata": {},
   "outputs": [],
   "source": [
    "year = str(2023)"
   ]
  },
  {
   "cell_type": "code",
   "execution_count": 6,
   "id": "8414b980-4a13-40f5-93f9-df010ad96712",
   "metadata": {},
   "outputs": [],
   "source": [
    "ITS_pts = og_file_input(prefix = 'Treat_n_harvests_points'+year, filetype = 'Point', gdb = os.path.join(workspace, 'D_Appended'))\n",
    "pts_path = os.path.join(workspace,'D_Appended', ITS_pts)\n",
    "ITS_lns =  og_file_input(prefix = 'Treat_n_harvests_lines'+year, filetype = 'POLYLINE', gdb = os.path.join(workspace, 'D_Appended'))\n",
    "lns_path = os.path.join(workspace,'D_Appended',ITS_lns)\n",
    "ITS_ply = og_file_input(prefix = 'Treat_n_harvests_polygons'+year, filetype = 'POLYGON', gdb = os.path.join(workspace, 'D_Appended'))\n",
    "ply_path = os.path.join(workspace,'D_Appended',ITS_ply)"
   ]
  },
  {
   "cell_type": "code",
   "execution_count": 34,
   "id": "7847cee3-52c9-4423-a7c3-6393cea0b2bb",
   "metadata": {},
   "outputs": [],
   "source": [
    "act_rep = og_file_input(prefix = 'Activities_Report', filetype = 'Point', gdb = os.path.join(workspace, 'f_Report_Data'))\n",
    "ar_path = os.path.join(workspace,'f_Report_Data', act_rep)\n",
    "ftp_rep =  og_file_input(prefix = 'Footprint_Report', filetype = 'POLYGON', gdb = os.path.join(workspace, 'f_Report_Data'))\n",
    "fr_path = os.path.join(workspace,'f_Report_Data',ftp_rep)"
   ]
  },
  {
   "cell_type": "code",
   "execution_count": 35,
   "id": "6bc11b29-2627-4beb-97d9-e71838dbcb08",
   "metadata": {},
   "outputs": [
    {
     "data": {
      "text/plain": [
       "'D:\\\\WORK\\\\wildfire\\\\Interagency-Tracking-System\\\\its\\\\Interagency Tracking System.gdb\\\\f_Report_Data\\\\Footprint_Report_20240925'"
      ]
     },
     "execution_count": 35,
     "metadata": {},
     "output_type": "execute_result"
    }
   ],
   "source": [
    "fr_path"
   ]
  },
  {
   "cell_type": "code",
   "execution_count": 36,
   "id": "cd263472-73ad-44db-a647-b43d35e44952",
   "metadata": {
    "scrolled": true
   },
   "outputs": [
    {
     "ename": "Exception",
     "evalue": "Job failed.",
     "output_type": "error",
     "traceback": [
      "\u001b[1;31m---------------------------------------------------------------------------\u001b[0m",
      "\u001b[1;31mException\u001b[0m                                 Traceback (most recent call last)",
      "\u001b[1;32m~\\AppData\\Local\\Temp\\ipykernel_7212\\3418858061.py\u001b[0m in \u001b[0;36m?\u001b[1;34m()\u001b[0m\n\u001b[0;32m     30\u001b[0m \u001b[1;33m\u001b[0m\u001b[0m\n\u001b[0;32m     31\u001b[0m     \u001b[0mfgdb\u001b[0m \u001b[1;33m=\u001b[0m \u001b[0mmyzipfile\u001b[0m\u001b[1;33m.\u001b[0m\u001b[0mfilename\u001b[0m\u001b[1;33m\u001b[0m\u001b[1;33m\u001b[0m\u001b[0m\n\u001b[0;32m     32\u001b[0m     \u001b[0mserviceProp\u001b[0m \u001b[1;33m=\u001b[0m \u001b[1;33m{\u001b[0m\u001b[1;33m}\u001b[0m\u001b[1;33m\u001b[0m\u001b[1;33m\u001b[0m\u001b[0m\n\u001b[0;32m     33\u001b[0m     \u001b[0mserviceProp\u001b[0m\u001b[1;33m[\u001b[0m\u001b[1;34m'type'\u001b[0m\u001b[1;33m]\u001b[0m \u001b[1;33m=\u001b[0m \u001b[1;34m'File Geodatabase'\u001b[0m\u001b[1;33m\u001b[0m\u001b[1;33m\u001b[0m\u001b[0m\n\u001b[1;32m---> 34\u001b[1;33m     \u001b[0mserviceProp\u001b[0m\u001b[1;33m[\u001b[0m\u001b[1;34m'itemType'\u001b[0m\u001b[1;33m]\u001b[0m \u001b[1;33m=\u001b[0m \u001b[1;34m\"file\"\u001b[0m\u001b[1;33m\u001b[0m\u001b[1;33m\u001b[0m\u001b[0m\n\u001b[0m\u001b[0;32m     35\u001b[0m     \u001b[0mserviceProp\u001b[0m\u001b[1;33m[\u001b[0m\u001b[1;34m'tags'\u001b[0m\u001b[1;33m]\u001b[0m \u001b[1;33m=\u001b[0m \u001b[1;34m\"ITS\"\u001b[0m\u001b[1;33m\u001b[0m\u001b[1;33m\u001b[0m\u001b[0m\n\u001b[0;32m     36\u001b[0m \u001b[1;33m\u001b[0m\u001b[0m\n\u001b[0;32m     37\u001b[0m     \u001b[0mfgdb1\u001b[0m \u001b[1;33m=\u001b[0m \u001b[0mgis\u001b[0m\u001b[1;33m.\u001b[0m\u001b[0mcontent\u001b[0m\u001b[1;33m.\u001b[0m\u001b[0madd\u001b[0m\u001b[1;33m(\u001b[0m\u001b[0mitem_properties\u001b[0m\u001b[1;33m=\u001b[0m\u001b[0mserviceProp\u001b[0m\u001b[1;33m,\u001b[0m \u001b[0mdata\u001b[0m \u001b[1;33m=\u001b[0m \u001b[0mfgdb\u001b[0m\u001b[1;33m)\u001b[0m\u001b[1;33m\u001b[0m\u001b[1;33m\u001b[0m\u001b[0m\n",
      "\u001b[1;32m~\\.conda\\envs\\arcpy\\lib\\site-packages\\arcgis\\gis\\__init__.py\u001b[0m in \u001b[0;36m?\u001b[1;34m(self, publish_parameters, address_fields, output_type, overwrite, file_type, build_initial_cache, item_id, geocode_service)\u001b[0m\n\u001b[0;32m  15135\u001b[0m             \u001b[1;32mraise\u001b[0m \u001b[0mException\u001b[0m\u001b[1;33m(\u001b[0m\u001b[0mret\u001b[0m\u001b[1;33m[\u001b[0m\u001b[1;36m0\u001b[0m\u001b[1;33m]\u001b[0m\u001b[1;33m.\u001b[0m\u001b[0mget\u001b[0m\u001b[1;33m(\u001b[0m\u001b[1;34m\"error\"\u001b[0m\u001b[1;33m)\u001b[0m\u001b[1;33m)\u001b[0m\u001b[1;33m\u001b[0m\u001b[1;33m\u001b[0m\u001b[0m\n\u001b[0;32m  15136\u001b[0m         \u001b[1;32melif\u001b[0m \u001b[1;32mnot\u001b[0m \u001b[0mbuildInitialCache\u001b[0m \u001b[1;32mand\u001b[0m \u001b[0mret\u001b[0m\u001b[1;33m[\u001b[0m\u001b[1;36m0\u001b[0m\u001b[1;33m]\u001b[0m\u001b[1;33m[\u001b[0m\u001b[1;34m\"type\"\u001b[0m\u001b[1;33m]\u001b[0m\u001b[1;33m.\u001b[0m\u001b[0mlower\u001b[0m\u001b[1;33m(\u001b[0m\u001b[1;33m)\u001b[0m \u001b[1;33m==\u001b[0m \u001b[1;34m\"image service\"\u001b[0m\u001b[1;33m:\u001b[0m\u001b[1;33m\u001b[0m\u001b[1;33m\u001b[0m\u001b[0m\n\u001b[0;32m  15137\u001b[0m             \u001b[1;32mreturn\u001b[0m \u001b[0mItem\u001b[0m\u001b[1;33m(\u001b[0m\u001b[0mself\u001b[0m\u001b[1;33m.\u001b[0m\u001b[0m_gis\u001b[0m\u001b[1;33m,\u001b[0m \u001b[0mret\u001b[0m\u001b[1;33m[\u001b[0m\u001b[1;36m0\u001b[0m\u001b[1;33m]\u001b[0m\u001b[1;33m[\u001b[0m\u001b[1;34m\"serviceItemId\"\u001b[0m\u001b[1;33m]\u001b[0m\u001b[1;33m)\u001b[0m\u001b[1;33m\u001b[0m\u001b[1;33m\u001b[0m\u001b[0m\n\u001b[0;32m  15138\u001b[0m         \u001b[1;32melse\u001b[0m\u001b[1;33m:\u001b[0m\u001b[1;33m\u001b[0m\u001b[1;33m\u001b[0m\u001b[0m\n\u001b[1;32m> 15139\u001b[1;33m             \u001b[0mserviceitem_id\u001b[0m \u001b[1;33m=\u001b[0m \u001b[0mself\u001b[0m\u001b[1;33m.\u001b[0m\u001b[0m_check_publish_status\u001b[0m\u001b[1;33m(\u001b[0m\u001b[0mret\u001b[0m\u001b[1;33m,\u001b[0m \u001b[0mfolder\u001b[0m\u001b[1;33m)\u001b[0m\u001b[1;33m\u001b[0m\u001b[1;33m\u001b[0m\u001b[0m\n\u001b[0m\u001b[0;32m  15140\u001b[0m         \u001b[1;32mreturn\u001b[0m \u001b[0mItem\u001b[0m\u001b[1;33m(\u001b[0m\u001b[0mself\u001b[0m\u001b[1;33m.\u001b[0m\u001b[0m_gis\u001b[0m\u001b[1;33m,\u001b[0m \u001b[0mserviceitem_id\u001b[0m\u001b[1;33m)\u001b[0m\u001b[1;33m\u001b[0m\u001b[1;33m\u001b[0m\u001b[0m\n",
      "\u001b[1;32m~\\.conda\\envs\\arcpy\\lib\\site-packages\\arcgis\\gis\\__init__.py\u001b[0m in \u001b[0;36m?\u001b[1;34m(self, ret, folder)\u001b[0m\n\u001b[0;32m  15495\u001b[0m                     if job_response.get(\"status\") in (\n\u001b[0;32m  15496\u001b[0m                         \u001b[1;34m\"esriJobFailed\"\u001b[0m\u001b[1;33m,\u001b[0m\u001b[1;33m\u001b[0m\u001b[1;33m\u001b[0m\u001b[0m\n\u001b[0;32m  15497\u001b[0m                         \u001b[1;34m\"failed\"\u001b[0m\u001b[1;33m,\u001b[0m\u001b[1;33m\u001b[0m\u001b[1;33m\u001b[0m\u001b[0m\n\u001b[0;32m  15498\u001b[0m                     ):\n\u001b[1;32m> 15499\u001b[1;33m                         \u001b[1;32mraise\u001b[0m \u001b[0mException\u001b[0m\u001b[1;33m(\u001b[0m\u001b[1;34m\"Job failed.\"\u001b[0m\u001b[1;33m)\u001b[0m\u001b[1;33m\u001b[0m\u001b[1;33m\u001b[0m\u001b[0m\n\u001b[0m\u001b[0;32m  15500\u001b[0m                     \u001b[1;32melif\u001b[0m \u001b[0mjob_response\u001b[0m\u001b[1;33m.\u001b[0m\u001b[0mget\u001b[0m\u001b[1;33m(\u001b[0m\u001b[1;34m\"status\"\u001b[0m\u001b[1;33m)\u001b[0m \u001b[1;33m==\u001b[0m \u001b[1;34m\"esriJobCancelled\"\u001b[0m\u001b[1;33m:\u001b[0m\u001b[1;33m\u001b[0m\u001b[1;33m\u001b[0m\u001b[0m\n\u001b[0;32m  15501\u001b[0m                         \u001b[1;32mraise\u001b[0m \u001b[0mException\u001b[0m\u001b[1;33m(\u001b[0m\u001b[1;34m\"Job cancelled.\"\u001b[0m\u001b[1;33m)\u001b[0m\u001b[1;33m\u001b[0m\u001b[1;33m\u001b[0m\u001b[0m\n\u001b[0;32m  15502\u001b[0m                     \u001b[1;32melif\u001b[0m \u001b[0mjob_response\u001b[0m\u001b[1;33m.\u001b[0m\u001b[0mget\u001b[0m\u001b[1;33m(\u001b[0m\u001b[1;34m\"status\"\u001b[0m\u001b[1;33m)\u001b[0m \u001b[1;33m==\u001b[0m \u001b[1;34m\"esriJobTimedOut\"\u001b[0m\u001b[1;33m:\u001b[0m\u001b[1;33m\u001b[0m\u001b[1;33m\u001b[0m\u001b[0m\n",
      "\u001b[1;31mException\u001b[0m: Job failed."
     ]
    }
   ],
   "source": [
    "### iterate through upload layers\n",
    "### create .gdb with specific layer for upload\n",
    "### zip the geodatabase for upload\n",
    "gdb_path = []\n",
    "for f_name, f_path in zip([ITS_pts, ITS_lns, ITS_ply, act_rep, ftp_rep], [pts_path, lns_path, ply_path, ar_path, fr_path]):\n",
    "    # create geodatabase\n",
    "    out_path = arcpy.CreateFileGDB_management(os.path.join(os.path.dirname(workspace), \"ITSGDB_backup\"), f_name)[0]\n",
    "    gdb_path.append(out_path)\n",
    "    fc = arcpy.management.CreateFeatureclass(\n",
    "            out_path=out_path, \n",
    "            out_name=f_name,\n",
    "            geometry_type=arcpy.Describe(f_path).shapeType,\n",
    "            template=[f_path], \n",
    "            spatial_reference=arcpy.Describe(f_path).spatialReference.name\n",
    "        )\n",
    "    # create zip file\n",
    "    myzipfile = zipfile.ZipFile(out_path + \".zip\", 'w', zipfile.ZIP_DEFLATED)\n",
    "\n",
    "    for dirname, subdirs, files in os.walk(out_path):\n",
    "        for f in files:           \n",
    "            myzipfile.write(os.path.join(root, f), arcname = os.path.join(os.path.basename(root), f))\n",
    "\n",
    "\n",
    "    \n",
    "    myzipfile.close()\n",
    "                \n",
    "    fgdb = myzipfile.filename\n",
    "    serviceProp = {}\n",
    "    serviceProp['type'] = 'File Geodatabase'\n",
    "    serviceProp['itemType'] = \"file\"\n",
    "    serviceProp['tags'] = \"ITS\"\n",
    "\n",
    "    fgdb1 = gis.content.add(item_properties=serviceProp, data = fgdb)\n",
    "    fgdb2 = fgdb1.publish(file_type = 'filegeodatabase', overwrite=True)\n",
    "\n",
    "### DELETE .gdb after ZIP\n",
    "for p in gdb_path:\n",
    "    shutil.rmtree(p)\n",
    "\n",
    " "
   ]
  },
  {
   "cell_type": "code",
   "execution_count": 37,
   "id": "932c980d-079a-4c4e-b14a-bacc0ef943ce",
   "metadata": {},
   "outputs": [],
   "source": [
    "### DELETE .gdb after ZIP\n",
    "for p in gdb_path:\n",
    "    shutil.rmtree(p)\n"
   ]
  },
  {
   "cell_type": "code",
   "execution_count": 30,
   "id": "97c7739a-7413-409a-aa5b-86cbfec3a136",
   "metadata": {},
   "outputs": [
    {
     "data": {
      "text/plain": [
       "'D:\\\\WORK\\\\wildfire\\\\Interagency-Tracking-System\\\\its\\\\ITSGDB_backup\\\\Treat_n_harvests_polygons2023_20240925.gdb.zip'"
      ]
     },
     "execution_count": 30,
     "metadata": {},
     "output_type": "execute_result"
    }
   ],
   "source": []
  },
  {
   "cell_type": "code",
   "execution_count": 26,
   "id": "4df7877d-8b78-455f-8e9b-5d2995c98dd2",
   "metadata": {},
   "outputs": [],
   "source": []
  },
  {
   "cell_type": "code",
   "execution_count": null,
   "id": "6798e5c9-4914-4a00-8efd-a90041e6cd4d",
   "metadata": {},
   "outputs": [],
   "source": []
  },
  {
   "cell_type": "code",
   "execution_count": 30,
   "id": "303f4739-a5d3-4ff3-b03b-c5a42d1cd8e2",
   "metadata": {},
   "outputs": [],
   "source": []
  },
  {
   "cell_type": "code",
   "execution_count": null,
   "id": "ea0fb123-10cb-4a09-a3bf-b9dae9dcaaae",
   "metadata": {},
   "outputs": [],
   "source": [
    "\n",
    "#Creates the empty zip file and opens it for writing\n",
    "\n"
   ]
  },
  {
   "cell_type": "code",
   "execution_count": null,
   "id": "994af361-ace3-41da-8e89-b084886ec11a",
   "metadata": {},
   "outputs": [],
   "source": [
    "\n",
    "fgdb = r\"C:\\temp\\foo.zip\"\n",
    "\n",
    "\n",
    "pubProps = {}\n",
    "pubProps[\"hasStaticData\"] = 'true'\n",
    "pubProps[\"name\"] =\"foo\"\n",
    "pubProps[\"maxRecordCount\"] = 2000\n",
    "pubProps[\"layerInfo\"] = {\"capabilities\":\"Query\"}\n",
    "\n",
    "\n",
    "fgdb1 = g.content.add(item_properties=serviceProp, data = fgdb)\n",
    "print(fgdb1)"
   ]
  }
 ],
 "metadata": {
  "kernelspec": {
   "display_name": "Python 3 (ipykernel)",
   "language": "python",
   "name": "python3"
  },
  "language_info": {
   "codemirror_mode": {
    "name": "ipython",
    "version": 3
   },
   "file_extension": ".py",
   "mimetype": "text/x-python",
   "name": "python",
   "nbconvert_exporter": "python",
   "pygments_lexer": "ipython3",
   "version": "3.9.11"
  }
 },
 "nbformat": 4,
 "nbformat_minor": 5
}

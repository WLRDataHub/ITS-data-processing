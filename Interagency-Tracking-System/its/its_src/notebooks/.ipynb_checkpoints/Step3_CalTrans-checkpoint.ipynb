{
 "cells": [
  {
   "cell_type": "code",
   "execution_count": 1,
   "metadata": {},
   "outputs": [],
   "source": [
    "import sys\n",
    "sys.path.append('../')"
   ]
  },
  {
   "cell_type": "code",
   "execution_count": 3,
   "metadata": {},
   "outputs": [],
   "source": [
    "\"\"\"\n",
    "# Description: Converts the California Department of Transportation's Fuels  \n",
    "#              Treatments dataset into the Task Force standardized schema.  \n",
    "#              Dataset is enriched with vegetation, ownership, county, WUI, \n",
    "#              Task Force Region, and year.              \n",
    "# Author: Spatial Informatics Group LLC\n",
    "# Version: 1.0.0\n",
    "# Date Created: Jan 24, 2024\n",
    "\"\"\"\n",
    "import os\n",
    "import datetime\n",
    "from scripts._3a_CalTrans import CalTrans\n",
    "from scripts.utils import init_gdb, check_schema_lock #, og_file_input\n",
    "\n",
    "workspace, scratch_workspace = init_gdb()\n",
    "\n",
    "\n"
   ]
  },
  {
   "cell_type": "code",
   "execution_count": 8,
   "metadata": {},
   "outputs": [],
   "source": [
    "year = 2023\n",
    "project_path = os.path.abspath(os.path.join(os.getcwd(), \"../../..\"))\n",
    "\n",
    "data_path = os.path.join(project_path, \"{}\".format(year))\n"
   ]
  },
  {
   "cell_type": "code",
   "execution_count": 11,
   "metadata": {},
   "outputs": [
    {
     "name": "stdout",
     "output_type": "stream",
     "text": [
      "Available for schema lock: D:\\WORK\\wildfire\\Interagency-Tracking-System\\2023\\CALTRANS_2023\\Caltrans_Vegetation_Management_20_23.gdb\\Caltrans_Vegetation_Management_RoadsideLandscape_Treatments_20_23\n",
      "Available for schema lock: D:\\WORK\\wildfire\\Interagency-Tracking-System\\2023\\CALTRANS_2023\\Caltrans_Vegetation_Management_20_23.gdb\\Caltrans_Vegetation_Management_RoadsideLandscape_ActivitiesTable_20_23\n",
      "Dataset does not exist: D:\\WORK\\wildfire\\Interagency-Tracking-System\\its\\Interagency Tracking System.gdb\\c_Enriched\\CalTrans_act_ln_enriched2023_20240815\n"
     ]
    }
   ],
   "source": [
    "# INPUTS\n",
    "# will need to acquire updated versions and update file names\n",
    "if year == 2022:\n",
    "    highway_gdb = os.path.join(data_path, \"CALTRANS_2022\\Caltrans_Vegetation_Management_Program_20230614.gdb\")\n",
    "    caltrans_gdb = os.path.join(data_path, \"CALTRANS_2022\\ITS CalTrans 20230711.gdb\")\n",
    "    input_lines21 = os.path.join(highway_gdb, \"VMP_Highway_Summary_2021\")\n",
    "    input_lines22 = os.path.join(highway_gdb, \"VMP_Highway_Summary_2022\")\n",
    "    input_table21 = os.path.join(caltrans_gdb, \"VMP_Activities_Table_2021_Closeout_Date_Added\")\n",
    "    input_table22 = os.path.join(caltrans_gdb, \"VMP_Activities_Table_2022_Closeout_Date_Added\")\n",
    "\n",
    "    date_id = datetime.datetime.now().strftime(\"%Y-%m-%d\").replace('-','') # like 20230711\n",
    "\n",
    "    # OUTPUTS\n",
    "    output_lines_enriched = os.path.join(workspace, \"c_Enriched\",f'CalTrans_act_ln_enriched2022_{date_id}') \n",
    "\n",
    "    check_schema_lock(input_lines21)\n",
    "    check_schema_lock(input_lines22)\n",
    "    check_schema_lock(input_table21)\n",
    "    check_schema_lock(input_table22)\n",
    "    check_schema_lock(output_lines_enriched)\n",
    "    \n",
    "    input_tables = [input_lines21, input_lines22, input_table21, input_table22]\n",
    "elif year == 2023:\n",
    "        \n",
    "    caltrans_gdb = os.path.join(data_path, \"CALTRANS_2023\\Caltrans_Vegetation_Management_20_23.gdb\")\n",
    "    input_lines = os.path.join(caltrans_gdb, \"Caltrans_Vegetation_Management_RoadsideLandscape_Treatments_20_23\")\n",
    "    input_table = os.path.join(caltrans_gdb, \"Caltrans_Vegetation_Management_RoadsideLandscape_ActivitiesTable_20_23\")\n",
    "    date_id = datetime.datetime.now().strftime(\"%Y-%m-%d\").replace('-','') # like 20230711\n",
    "\n",
    "    # OUTPUTS\n",
    "    output_lines_enriched = os.path.join(workspace, \"c_Enriched\",f'CalTrans_act_ln_enriched2023_{date_id}') \n",
    "\n",
    "\n",
    "    check_schema_lock(input_lines)\n",
    "\n",
    "    check_schema_lock(input_table)\n",
    "    check_schema_lock(output_lines_enriched)\n",
    "    \n",
    "    input_tables= [input_lines, input_table]"
   ]
  },
  {
   "cell_type": "code",
   "execution_count": null,
   "metadata": {},
   "outputs": [
    {
     "name": "stdout",
     "output_type": "stream",
     "text": [
      "Start Time 2024-08-15 10:31:35.141727\n",
      "Part 1 join features and tables\n",
      "     step 1/8 add 2021 join\n",
      "     step 2/8 save features\n"
     ]
    }
   ],
   "source": [
    "CalTrans(input_tables, output_lines_enriched, data_year=year)\n"
   ]
  },
  {
   "cell_type": "code",
   "execution_count": null,
   "metadata": {},
   "outputs": [],
   "source": []
  }
 ],
 "metadata": {
  "kernelspec": {
   "display_name": "Python 3 (ipykernel)",
   "language": "python",
   "name": "python3"
  },
  "language_info": {
   "codemirror_mode": {
    "name": "ipython",
    "version": 3
   },
   "file_extension": ".py",
   "mimetype": "text/x-python",
   "name": "python",
   "nbconvert_exporter": "python",
   "pygments_lexer": "ipython3",
   "version": "3.9.11"
  },
  "vscode": {
   "interpreter": {
    "hash": "4e1abec938aa564085d88d5729e577a09a090f84c8252c84527a9a845926d2eb"
   }
  }
 },
 "nbformat": 4,
 "nbformat_minor": 4
}

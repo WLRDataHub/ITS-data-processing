{
 "cells": [
  {
   "cell_type": "code",
   "execution_count": 1,
   "metadata": {},
   "outputs": [],
   "source": [
    "import sys\n",
    "sys.path.append('../')"
   ]
  },
  {
   "cell_type": "code",
   "execution_count": 2,
   "metadata": {},
   "outputs": [],
   "source": [
    "\"\"\"\n",
    "# Description:  This script transforms the flat point, line, and polygon files\n",
    "#               into the WRTF relational database. The relational database includes\n",
    "#               a Project polygon that has a one-to-many relationship with the \n",
    "#               Treatment featureclasses (point, line, and polygon). The Treatments \n",
    "#               have a one-to-many relationship with the Activities table.\n",
    "# Author: Spatial Informatics Group LLC\n",
    "# Version: 1.0.0\n",
    "# Date Created: Jan 24, 2024\n",
    "\"\"\"\n",
    "import datetime\n",
    "\n",
    "import os\n",
    "from scripts._1_assign_domains import ProjectDomains, TreatmentDomains, ActivityDomains\n",
    "from scripts._7a_transform_projects import TransformProjects\n",
    "from scripts._7b_transform_treatments import TransformTreatments\n",
    "from scripts._7c_transform_activities import TransformActivities\n",
    "from scripts.utils import init_gdb, check_schema_lock, og_file_input\n",
    "\n",
    "workspace, scratch_workspace = init_gdb()\n",
    "date_id = datetime.datetime.now().strftime(\"%Y-%m-%d\").replace('-','') # like 20221216\n"
   ]
  },
  {
   "cell_type": "code",
   "execution_count": 8,
   "metadata": {},
   "outputs": [],
   "source": [
    "year = str(2023)"
   ]
  },
  {
   "cell_type": "code",
   "execution_count": 9,
   "metadata": {},
   "outputs": [
    {
     "name": "stdout",
     "output_type": "stream",
     "text": [
      "Dataset does not exist: D:\\WORK\\wildfire\\Interagency-Tracking-System\\its\\Interagency Tracking System.gdb\\e_Transformed\\Project_poly2023_20240911\n",
      "Dataset does not exist: D:\\WORK\\wildfire\\Interagency-Tracking-System\\its\\Interagency Tracking System.gdb\\e_Transformed\\Treatment_poly2023_20240911\n",
      "Dataset does not exist: D:\\WORK\\wildfire\\Interagency-Tracking-System\\its\\Interagency Tracking System.gdb\\e_Transformed\\Treatments_pts2023_20240911\n",
      "Dataset does not exist: D:\\WORK\\wildfire\\Interagency-Tracking-System\\its\\Interagency Tracking System.gdb\\e_Transformed\\Treatments_lns2023_20240911\n",
      "Dataset does not exist: D:\\WORK\\wildfire\\Interagency-Tracking-System\\its\\Interagency Tracking System.gdb\\Activity_Table2023_20240911\n"
     ]
    }
   ],
   "source": [
    "# Inputs\n",
    "# finds the latest version by date (like 20240124 (YYYMMDD))\n",
    "treat_poly = og_file_input(prefix = 'Treat_n_harvests_polygons'+year, filetype = 'Polygon', gdb = os.path.join(workspace, \"d_Appended\"))\n",
    "Treat_n_harvests_polygons = os.path.join(workspace, 'd_Appended', treat_poly)\n",
    "treat_pt = og_file_input(prefix = 'Treat_n_harvests_points'+year, filetype = 'Point', gdb = os.path.join(workspace, \"d_Appended\"))\n",
    "Treat_n_harvests_points = os.path.join(workspace, 'd_Appended', treat_pt)\n",
    "treat_ln = og_file_input(prefix = 'Treat_n_harvests_lines'+year, filetype = 'Line', gdb = os.path.join(workspace, \"d_Appended\"))\n",
    "Treat_n_harvests_lines = os.path.join(workspace, 'd_Appended', treat_ln)\n",
    "\n",
    "# Outputs\n",
    "Project_Poly = os.path.join(workspace, 'e_Transformed', f'Project_poly{year}_{date_id}')\n",
    "Treatments_poly = os.path.join(workspace, 'e_Transformed', f'Treatment_poly{year}_{date_id}')\n",
    "Treatments_pts = os.path.join(workspace, 'e_Transformed', f'Treatments_pts{year}_{date_id}')\n",
    "Treatments_lns = os.path.join(workspace, 'e_Transformed', f'Treatments_lns{year}_{date_id}')\n",
    "Activities = os.path.join(workspace, f'Activity_Table{year}_{date_id}')\n",
    "\n",
    "check_schema_lock(Project_Poly)\n",
    "check_schema_lock(Treatments_poly)\n",
    "check_schema_lock(Treatments_pts)\n",
    "check_schema_lock(Treatments_lns)\n",
    "check_schema_lock(Activities)"
   ]
  },
  {
   "cell_type": "code",
   "execution_count": 10,
   "metadata": {
    "scrolled": true
   },
   "outputs": [
    {
     "name": "stdout",
     "output_type": "stream",
     "text": [
      "Start buffer selection\n",
      "Start buffering 1\n",
      "Start post selection\n"
     ]
    },
    {
     "ename": "TypeError",
     "evalue": "unsupported operand type(s) for *: 'NoneType' and 'float'",
     "output_type": "error",
     "traceback": [
      "\u001b[1;31m---------------------------------------------------------------------------\u001b[0m",
      "\u001b[1;31mTypeError\u001b[0m                                 Traceback (most recent call last)",
      "File \u001b[1;32m<expression>:1\u001b[0m\n",
      "\u001b[1;31mTypeError\u001b[0m: unsupported operand type(s) for *: 'NoneType' and 'float'"
     ]
    },
    {
     "ename": "TypeError",
     "evalue": "unsupported operand type(s) for *: 'NoneType' and 'float'",
     "output_type": "error",
     "traceback": [
      "\u001b[1;31m---------------------------------------------------------------------------\u001b[0m",
      "\u001b[1;31mTypeError\u001b[0m                                 Traceback (most recent call last)",
      "File \u001b[1;32m<expression>:1\u001b[0m\n",
      "\u001b[1;31mTypeError\u001b[0m: unsupported operand type(s) for *: 'NoneType' and 'float'"
     ]
    },
    {
     "ename": "TypeError",
     "evalue": "unsupported operand type(s) for *: 'NoneType' and 'float'",
     "output_type": "error",
     "traceback": [
      "\u001b[1;31m---------------------------------------------------------------------------\u001b[0m",
      "\u001b[1;31mTypeError\u001b[0m                                 Traceback (most recent call last)",
      "File \u001b[1;32m<expression>:1\u001b[0m\n",
      "\u001b[1;31mTypeError\u001b[0m: unsupported operand type(s) for *: 'NoneType' and 'float'"
     ]
    },
    {
     "ename": "TypeError",
     "evalue": "unsupported operand type(s) for *: 'NoneType' and 'float'",
     "output_type": "error",
     "traceback": [
      "\u001b[1;31m---------------------------------------------------------------------------\u001b[0m",
      "\u001b[1;31mTypeError\u001b[0m                                 Traceback (most recent call last)",
      "File \u001b[1;32m<expression>:1\u001b[0m\n",
      "\u001b[1;31mTypeError\u001b[0m: unsupported operand type(s) for *: 'NoneType' and 'float'"
     ]
    },
    {
     "ename": "TypeError",
     "evalue": "unsupported operand type(s) for *: 'NoneType' and 'float'",
     "output_type": "error",
     "traceback": [
      "\u001b[1;31m---------------------------------------------------------------------------\u001b[0m",
      "\u001b[1;31mTypeError\u001b[0m                                 Traceback (most recent call last)",
      "File \u001b[1;32m<expression>:1\u001b[0m\n",
      "\u001b[1;31mTypeError\u001b[0m: unsupported operand type(s) for *: 'NoneType' and 'float'"
     ]
    },
    {
     "ename": "TypeError",
     "evalue": "unsupported operand type(s) for *: 'NoneType' and 'float'",
     "output_type": "error",
     "traceback": [
      "\u001b[1;31m---------------------------------------------------------------------------\u001b[0m",
      "\u001b[1;31mTypeError\u001b[0m                                 Traceback (most recent call last)",
      "File \u001b[1;32m<expression>:1\u001b[0m\n",
      "\u001b[1;31mTypeError\u001b[0m: unsupported operand type(s) for *: 'NoneType' and 'float'"
     ]
    },
    {
     "ename": "TypeError",
     "evalue": "unsupported operand type(s) for *: 'NoneType' and 'float'",
     "output_type": "error",
     "traceback": [
      "\u001b[1;31m---------------------------------------------------------------------------\u001b[0m",
      "\u001b[1;31mTypeError\u001b[0m                                 Traceback (most recent call last)",
      "File \u001b[1;32m<expression>:1\u001b[0m\n",
      "\u001b[1;31mTypeError\u001b[0m: unsupported operand type(s) for *: 'NoneType' and 'float'"
     ]
    },
    {
     "ename": "TypeError",
     "evalue": "unsupported operand type(s) for *: 'NoneType' and 'float'",
     "output_type": "error",
     "traceback": [
      "\u001b[1;31m---------------------------------------------------------------------------\u001b[0m",
      "\u001b[1;31mTypeError\u001b[0m                                 Traceback (most recent call last)",
      "File \u001b[1;32m<expression>:1\u001b[0m\n",
      "\u001b[1;31mTypeError\u001b[0m: unsupported operand type(s) for *: 'NoneType' and 'float'"
     ]
    },
    {
     "ename": "TypeError",
     "evalue": "unsupported operand type(s) for *: 'NoneType' and 'float'",
     "output_type": "error",
     "traceback": [
      "\u001b[1;31m---------------------------------------------------------------------------\u001b[0m",
      "\u001b[1;31mTypeError\u001b[0m                                 Traceback (most recent call last)",
      "File \u001b[1;32m<expression>:1\u001b[0m\n",
      "\u001b[1;31mTypeError\u001b[0m: unsupported operand type(s) for *: 'NoneType' and 'float'"
     ]
    },
    {
     "ename": "TypeError",
     "evalue": "unsupported operand type(s) for *: 'NoneType' and 'float'",
     "output_type": "error",
     "traceback": [
      "\u001b[1;31m---------------------------------------------------------------------------\u001b[0m",
      "\u001b[1;31mTypeError\u001b[0m                                 Traceback (most recent call last)",
      "File \u001b[1;32m<expression>:1\u001b[0m\n",
      "\u001b[1;31mTypeError\u001b[0m: unsupported operand type(s) for *: 'NoneType' and 'float'"
     ]
    },
    {
     "ename": "TypeError",
     "evalue": "unsupported operand type(s) for *: 'NoneType' and 'float'",
     "output_type": "error",
     "traceback": [
      "\u001b[1;31m---------------------------------------------------------------------------\u001b[0m",
      "\u001b[1;31mTypeError\u001b[0m                                 Traceback (most recent call last)",
      "File \u001b[1;32m<expression>:1\u001b[0m\n",
      "\u001b[1;31mTypeError\u001b[0m: unsupported operand type(s) for *: 'NoneType' and 'float'"
     ]
    },
    {
     "ename": "TypeError",
     "evalue": "unsupported operand type(s) for *: 'NoneType' and 'float'",
     "output_type": "error",
     "traceback": [
      "\u001b[1;31m---------------------------------------------------------------------------\u001b[0m",
      "\u001b[1;31mTypeError\u001b[0m                                 Traceback (most recent call last)",
      "File \u001b[1;32m<expression>:1\u001b[0m\n",
      "\u001b[1;31mTypeError\u001b[0m: unsupported operand type(s) for *: 'NoneType' and 'float'"
     ]
    },
    {
     "ename": "TypeError",
     "evalue": "unsupported operand type(s) for *: 'NoneType' and 'float'",
     "output_type": "error",
     "traceback": [
      "\u001b[1;31m---------------------------------------------------------------------------\u001b[0m",
      "\u001b[1;31mTypeError\u001b[0m                                 Traceback (most recent call last)",
      "File \u001b[1;32m<expression>:1\u001b[0m\n",
      "\u001b[1;31mTypeError\u001b[0m: unsupported operand type(s) for *: 'NoneType' and 'float'"
     ]
    },
    {
     "ename": "TypeError",
     "evalue": "unsupported operand type(s) for *: 'NoneType' and 'float'",
     "output_type": "error",
     "traceback": [
      "\u001b[1;31m---------------------------------------------------------------------------\u001b[0m",
      "\u001b[1;31mTypeError\u001b[0m                                 Traceback (most recent call last)",
      "File \u001b[1;32m<expression>:1\u001b[0m\n",
      "\u001b[1;31mTypeError\u001b[0m: unsupported operand type(s) for *: 'NoneType' and 'float'"
     ]
    },
    {
     "ename": "TypeError",
     "evalue": "unsupported operand type(s) for *: 'NoneType' and 'float'",
     "output_type": "error",
     "traceback": [
      "\u001b[1;31m---------------------------------------------------------------------------\u001b[0m",
      "\u001b[1;31mTypeError\u001b[0m                                 Traceback (most recent call last)",
      "File \u001b[1;32m<expression>:1\u001b[0m\n",
      "\u001b[1;31mTypeError\u001b[0m: unsupported operand type(s) for *: 'NoneType' and 'float'"
     ]
    },
    {
     "ename": "TypeError",
     "evalue": "unsupported operand type(s) for *: 'NoneType' and 'float'",
     "output_type": "error",
     "traceback": [
      "\u001b[1;31m---------------------------------------------------------------------------\u001b[0m",
      "\u001b[1;31mTypeError\u001b[0m                                 Traceback (most recent call last)",
      "File \u001b[1;32m<expression>:1\u001b[0m\n",
      "\u001b[1;31mTypeError\u001b[0m: unsupported operand type(s) for *: 'NoneType' and 'float'"
     ]
    },
    {
     "name": "stdout",
     "output_type": "stream",
     "text": [
      "Start buffering 2\n",
      "Start dissolve by features\n",
      "Start loading temp_poly to gdf\n",
      "Start dissolving by UID\n",
      "Start saving to out_poly\n",
      "Dissolve complete\n",
      "tranform complete\n",
      "CPU times: total: 5min 52s\n",
      "Wall time: 6min 5s\n"
     ]
    },
    {
     "data": {
      "text/html": [
       "<div class='gpresult'><h2>Messages</h2><div id='messages' data-messages='[\"Start Time: Wednesday, September 11, 2024 10:36:37 AM\",\"Succeeded at Wednesday, September 11, 2024 10:36:37 AM (Elapsed Time: 0.19 seconds)\"]' data-show='true'><div id = 'default' /></div></div>"
      ],
      "text/plain": [
       "<Result 'D:\\\\WORK\\\\wildfire\\\\Interagency-Tracking-System\\\\its\\\\Interagency Tracking System.gdb\\\\e_Transformed\\\\Project_poly2023_20240911'>"
      ]
     },
     "execution_count": 10,
     "metadata": {},
     "output_type": "execute_result"
    }
   ],
   "source": [
    "%%time\n",
    "TransformProjects(\n",
    "    In_Poly=Treat_n_harvests_polygons,\n",
    "    In_Pts=Treat_n_harvests_points,\n",
    "    In_Lns=Treat_n_harvests_lines,\n",
    "    Out_Poly=Project_Poly,\n",
    ")\n",
    "print(\"tranform complete\")\n",
    "ProjectDomains(in_table_p=Project_Poly)"
   ]
  },
  {
   "cell_type": "code",
   "execution_count": 11,
   "metadata": {},
   "outputs": [
    {
     "name": "stdout",
     "output_type": "stream",
     "text": [
      "Start loading In_Poly to gdf\n",
      "Start dissolving by UID\n",
      "Start saving to out_poly\n",
      "Start loading In_Pts to gdf\n",
      "Start dissolving by UID\n",
      "Start saving to Out_pts\n",
      "Start loading In_Lns to gdf\n",
      "Start dissolving by UID\n",
      "Start saving to Out_lns\n",
      "CPU times: total: 5min 52s\n",
      "Wall time: 6min 15s\n"
     ]
    },
    {
     "data": {
      "text/html": [
       "<div class='gpresult'><h2>Messages</h2><div id='messages' data-messages='[\"Start Time: Wednesday, September 11, 2024 10:42:52 AM\",\"Succeeded at Wednesday, September 11, 2024 10:42:52 AM (Elapsed Time: 0.21 seconds)\"]' data-show='true'><div id = 'default' /></div></div>"
      ],
      "text/plain": [
       "<Result 'D:\\\\WORK\\\\wildfire\\\\Interagency-Tracking-System\\\\its\\\\Interagency Tracking System.gdb\\\\e_Transformed\\\\Treatments_lns2023_20240911'>"
      ]
     },
     "execution_count": 11,
     "metadata": {},
     "output_type": "execute_result"
    }
   ],
   "source": [
    "%%time\n",
    "TransformTreatments(\n",
    "    In_Poly=Treat_n_harvests_polygons,\n",
    "    In_Pts=Treat_n_harvests_points,\n",
    "    In_Lns=Treat_n_harvests_lines,\n",
    "    Out_poly=Treatments_poly,\n",
    "    Out_pts=Treatments_pts,\n",
    "    Out_lns=Treatments_lns,\n",
    ")\n",
    "TreatmentDomains(in_table_t=Treatments_poly)\n",
    "TreatmentDomains(in_table_t=Treatments_pts)\n",
    "TreatmentDomains(in_table_t=Treatments_lns)"
   ]
  },
  {
   "cell_type": "code",
   "execution_count": 12,
   "metadata": {
    "scrolled": true
   },
   "outputs": [
    {
     "name": "stdout",
     "output_type": "stream",
     "text": [
      "Deleting Scratch Files\n",
      "CPU times: total: 37.8 s\n",
      "Wall time: 57.1 s\n"
     ]
    },
    {
     "data": {
      "text/html": [
       "<div class='gpresult'><h2>Messages</h2><div id='messages' data-messages='[\"Start Time: Wednesday, September 11, 2024 10:43:49 AM\",\"Succeeded at Wednesday, September 11, 2024 10:43:50 AM (Elapsed Time: 0.12 seconds)\"]' data-show='true'><div id = 'default' /></div></div>"
      ],
      "text/plain": [
       "<Result 'D:\\\\WORK\\\\wildfire\\\\Interagency-Tracking-System\\\\its\\\\Interagency Tracking System.gdb\\\\Activity_Table2023_20240911'>"
      ]
     },
     "execution_count": 12,
     "metadata": {},
     "output_type": "execute_result"
    }
   ],
   "source": [
    "%%time\n",
    "TransformActivities(\n",
    "    In_Poly=Treat_n_harvests_polygons,\n",
    "    In_Pts=Treat_n_harvests_points,\n",
    "    In_Lns=Treat_n_harvests_lines,\n",
    "    Out_Table=Activities\n",
    ")\n",
    "ActivityDomains(in_table_a=Activities)"
   ]
  },
  {
   "cell_type": "code",
   "execution_count": null,
   "metadata": {},
   "outputs": [],
   "source": []
  }
 ],
 "metadata": {
  "kernelspec": {
   "display_name": "Python 3 (ipykernel)",
   "language": "python",
   "name": "python3"
  },
  "language_info": {
   "codemirror_mode": {
    "name": "ipython",
    "version": 3
   },
   "file_extension": ".py",
   "mimetype": "text/x-python",
   "name": "python",
   "nbconvert_exporter": "python",
   "pygments_lexer": "ipython3",
   "version": "3.9.11"
  }
 },
 "nbformat": 4,
 "nbformat_minor": 4
}

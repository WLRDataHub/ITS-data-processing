{
 "cells": [
  {
   "cell_type": "code",
   "execution_count": 1,
   "metadata": {},
   "outputs": [],
   "source": [
    "import sys\n",
    "sys.path.append('../')"
   ]
  },
  {
   "cell_type": "code",
   "execution_count": 2,
   "metadata": {},
   "outputs": [],
   "source": [
    "\"\"\"\n",
    "# Description: Converts the California Department of Transportation's Fuels  \n",
    "#              Treatments dataset into the Task Force standardized schema.  \n",
    "#              Dataset is enriched with vegetation, ownership, county, WUI, \n",
    "#              Task Force Region, and year.              \n",
    "# Author: Spatial Informatics Group LLC\n",
    "# Version: 1.0.0\n",
    "# Date Created: Jan 24, 2024\n",
    "\"\"\"\n",
    "import os\n",
    "import datetime\n",
    "from scripts._3a_CalTrans import CalTrans\n",
    "#from scripts._3a_CalTrans_original import CalTrans\n",
    "from scripts.utils import init_gdb, check_schema_lock #, og_file_input\n",
    "\n",
    "workspace, scratch_workspace = init_gdb()\n",
    "\n",
    "\n"
   ]
  },
  {
   "cell_type": "code",
   "execution_count": 3,
   "metadata": {},
   "outputs": [],
   "source": [
    "year = 2023\n",
    "project_path = os.path.abspath(os.path.join(os.getcwd(), \"../../..\"))\n",
    "\n",
    "data_path = os.path.join(project_path, \"{}\".format(year))\n"
   ]
  },
  {
   "cell_type": "code",
   "execution_count": 4,
   "metadata": {},
   "outputs": [
    {
     "name": "stdout",
     "output_type": "stream",
     "text": [
      "Available for schema lock: D:\\WORK\\wildfire\\Interagency-Tracking-System\\2023\\CALTRANS_2023\\Caltrans_Vegetation_Management_20_23.gdb\\Caltrans_Vegetation_Management_RoadsideLandscape_Treatments_20_23\n",
      "Available for schema lock: D:\\WORK\\wildfire\\Interagency-Tracking-System\\2023\\CALTRANS_2023\\Caltrans_Vegetation_Management_20_23.gdb\\Caltrans_Vegetation_Management_RoadsideLandscape_ActivitiesTable_20_23\n",
      "Dataset does not exist: D:\\WORK\\wildfire\\Interagency-Tracking-System\\its\\Interagency Tracking System.gdb\\c_Enriched\\CalTrans_act_ln_enriched2023_20240918\n"
     ]
    }
   ],
   "source": [
    "# INPUTS\n",
    "# will need to acquire updated versions and update file names\n",
    "if year == 2022:\n",
    "    highway_gdb = os.path.join(data_path, \"CALTRANS_2022\\Caltrans_Vegetation_Management_Program_20230614.gdb\")\n",
    "    caltrans_gdb = os.path.join(data_path, \"CALTRANS_2022\\ITS CalTrans 20230711.gdb\")\n",
    "    input_lines21 = os.path.join(highway_gdb, \"VMP_Highway_Summary_2021\")\n",
    "    input_lines22 = os.path.join(highway_gdb, \"VMP_Highway_Summary_2022\")\n",
    "    input_table21 = os.path.join(caltrans_gdb, \"VMP_Activities_Table_2021_Closeout_Date_Added\")\n",
    "    input_table22 = os.path.join(caltrans_gdb, \"VMP_Activities_Table_2022_Closeout_Date_Added\")\n",
    "\n",
    "    date_id = datetime.datetime.now().strftime(\"%Y-%m-%d\").replace('-','') # like 20230711\n",
    "\n",
    "    # OUTPUTS\n",
    "    output_lines_enriched = os.path.join(workspace, \"c_Enriched\",f'CalTrans_act_ln_enriched2022_{date_id}')\n",
    "    #output_lines_enriched = os.path.join(workspace, \"c_Enriched\",f'CalTrans_act_ln_enriched2022_sigs_original') \n",
    "\n",
    "    check_schema_lock(input_lines21)\n",
    "    check_schema_lock(input_lines22)\n",
    "    check_schema_lock(input_table21)\n",
    "    check_schema_lock(input_table22)\n",
    "    check_schema_lock(output_lines_enriched)\n",
    "    \n",
    "    input_tables = [input_lines21, input_lines22, input_table21, input_table22]\n",
    "elif year == 2023:\n",
    "        \n",
    "    caltrans_gdb = os.path.join(data_path, \"CALTRANS_2023\\Caltrans_Vegetation_Management_20_23.gdb\")\n",
    "    input_lines = os.path.join(caltrans_gdb, \"Caltrans_Vegetation_Management_RoadsideLandscape_Treatments_20_23\")\n",
    "    input_table = os.path.join(caltrans_gdb, \"Caltrans_Vegetation_Management_RoadsideLandscape_ActivitiesTable_20_23\")\n",
    "    date_id = datetime.datetime.now().strftime(\"%Y-%m-%d\").replace('-','') # like 20230711\n",
    "\n",
    "    # OUTPUTS\n",
    "    output_lines_enriched = os.path.join(workspace, \"c_Enriched\",f'CalTrans_act_ln_enriched2023_{date_id}') \n",
    "\n",
    "\n",
    "    check_schema_lock(input_lines)\n",
    "\n",
    "    check_schema_lock(input_table)\n",
    "    check_schema_lock(output_lines_enriched)\n",
    "    \n",
    "    input_tables= [input_lines, input_table]"
   ]
  },
  {
   "cell_type": "code",
   "execution_count": 5,
   "metadata": {
    "scrolled": true
   },
   "outputs": [
    {
     "name": "stdout",
     "output_type": "stream",
     "text": [
      "Start Time 2024-09-18 10:56:56.636774\n",
      "Part 1 join features and tables\n",
      "     step 1/8 add 2023 join\n"
     ]
    },
    {
     "name": "stderr",
     "output_type": "stream",
     "text": [
      "PROJ: proj_create_from_database: Cannot find proj.db\n"
     ]
    },
    {
     "name": "stdout",
     "output_type": "stream",
     "text": [
      "     step 2/8 save features\n",
      "        input_table_join has 103427 records\n",
      "     skipping step 3/8-5/8 in 2023 with no seperate files\n",
      "       CalTransLns_append has 103427 records\n",
      "Part 2: Performing Standardization\n",
      "     step 6/8 repair geometry\n",
      "     step 7/8 alter & add fields\n",
      "field PRIMARY_OBJECTIVE Exists: altering it to PRIMARY_OBJECTIVE_\n",
      "field SECONDARY_OBJECTIVE Exists: altering it to SECONDARY_OBJECTIVE_\n",
      "field TERTIARY_OBJECTIVE Exists: altering it to TERTIARY_OBJECTIVE_\n",
      "field TREATMENT_STATUS Exists: altering it to TREATMENT_STATUS_\n",
      "field COUNTY Exists: altering it to COUNTY_\n",
      "field BROAD_VEGETATION_TYPE Exists: altering it to BROAD_VEGETATION_TYPE_\n",
      "field ACTIVITY_STATUS Exists: altering it to ACTIVITY_STATUS_\n",
      "field RESIDUE_FATE Exists: altering it to RESIDUE_FATE_\n",
      "field ACTIVITY_NAME Exists: altering it to ACTIVITY_NAME_\n",
      "      assigning domains\n",
      "     step 8/8 transfer attributes\n",
      "Saving Standardized Output\n",
      "          removing unnecessary fields\n",
      "        field_list before: ['OBJECTID', 'SHAPE', 'Resp_District', 'Work_Order_Number', 'County2', 'End_County', 'Route_Num', 'Route', 'Route_Suffix', 'From_PM_Prefix', 'From_PM', 'From_PM_Suffix', 'From_PM_C', 'To_PM_Prefix', 'To_PM', 'To_PM_Suffix', 'To_PM_C', 'Production_Quantity', 'UOM', 'Maintenance_Type', 'Comments', 'Activity', 'Activity_Description_', 'Highway_ID', 'IMMS_Unit_ID', 'Fiscal_Year', 'From_Miles', 'To_Miles', 'WorkBeginDate', 'WorkEndDate', 'ACTIVITY_NAME_', 'PRIMARY_FUNDING_SOURCE_NAME', 'PRIMARY_FUNDING_ORG_NAME', 'SECONDARY_FUNDING_SOURCE_NAME', 'SECONDARY_FUNDING_ORG__NAME', 'TERTIARY_FUNDING_SOURCE_NAME', 'TERTIARY_FUNDING_ORG_NAME', 'ADMINISTERING_ORG_NAME', 'IMPLEMENTING_ORG_NAME', 'ACTIVITY_STATUS_', 'BROAD_VEGETATION_TYPE_', 'RESIDUE_QUANTITY', 'RESIDUE_FATE_', 'ACTIVITY_PERCENT_COMPLETE', 'ActivityID', 'ACTIVITY_DESC', 'Calendar_Year', 'District', 'Route_C', 'District_txt', 'District_num', 'COUNTY_', 'Route_num_1', 'Route_txt', 'Route_suffix_1', 'Route_c_1', 'FREQUENCY', 'SUM_Production_Quantity', 'Ownership_Group', 'PRIMARY_OBJECTIVE_', 'SECONDARY_OBJECTIVE_', 'TERTIARY_OBJECTIVE_', 'Estimated_Retreatment_Date', 'TREATMENT_STATUS_', 'PROJECTID_USER', 'AGENCY', 'ORG_ADMIN_p', 'PROJECT_CONTACT', 'PROJECT_EMAIL', 'ADMINISTERING_ORG', 'PROJECT_NAME', 'PROJECT_STATUS', 'PROJECT_START', 'PROJECT_END', 'PRIMARY_FUNDING_SOURCE', 'PRIMARY_FUNDING_ORG', 'IMPLEMENTING_ORG', 'LATITUDE', 'LONGITUDE', 'BatchID_p', 'Val_Status_p', 'Val_MSG_p', 'Val_RunDate_p', 'Review_Status_p', 'Review_MSG_p', 'Review_RunDate_p', 'Dataload_Status_p', 'Dataload_Msg_p', 'TRMTID_USER', 'PROJECTID', 'PROJECTNAME_', 'ORG_ADMIN_t', 'PRIMARY_OWNERSHIP_GROUP', 'PRIMARY_OBJECTIVE', 'SECONDARY_OBJECTIVE', 'TERTIARY_OBJECTIVE', 'TREATMENT_STATUS', 'COUNTY', 'IN_WUI', 'REGION', 'TREATMENT_AREA', 'TREATMENT_START', 'TREATMENT_END', 'RETREATMENT_DATE_EST', 'TREATMENT_NAME', 'BatchID', 'Val_Status_t', 'Val_MSG_t', 'Val_RunDate_t', 'Review_Status_t', 'Review_Msg_t', 'Review_RunDate_t', 'Dataload_Status_t', 'Dataload_Msg_t', 'ACTIVID_USER', 'TREATMENTID_', 'ORG_ADMIN_a', 'ACTIVITY_DESCRIPTION', 'ACTIVITY_CAT', 'BROAD_VEGETATION_TYPE', 'BVT_USERD', 'ACTIVITY_STATUS', 'ACTIVITY_QUANTITY', 'ACTIVITY_UOM', 'ACTIVITY_START', 'ACTIVITY_END', 'ADMIN_ORG_NAME', 'IMPLEM_ORG_NAME', 'PRIMARY_FUND_SRC_NAME', 'PRIMARY_FUND_ORG_NAME', 'SECONDARY_FUND_SRC_NAME', 'SECONDARY_FUND_ORG_NAME', 'TERTIARY_FUND_SRC_NAME', 'TERTIARY_FUND_ORG_NAME', 'ACTIVITY_PRCT', 'RESIDUE_FATE', 'RESIDUE_FATE_QUANTITY', 'RESIDUE_FATE_UNITS', 'ACTIVITY_NAME', 'VAL_STATUS_a', 'VAL_MSG_a', 'VAL_RUNDATE_a', 'REVIEW_STATUS_a', 'REVIEW_MSG_a', 'REVIEW_RUNDATE_a', 'DATALOAD_STATUS_a', 'DATALOAD_MSG_a', 'Source', 'Year', 'Year_txt', 'Act_Code', 'Crosswalk', 'Federal_FY', 'State_FY', 'TRMT_GEOM', 'COUNTS_TO_MAS', 'SHAPE_Length']\n",
      "        field_list after: ['OBJECTID', 'SHAPE', 'PROJECTID_USER', 'AGENCY', 'ORG_ADMIN_p', 'PROJECT_CONTACT', 'PROJECT_EMAIL', 'ADMINISTERING_ORG', 'PROJECT_NAME', 'PROJECT_STATUS', 'PROJECT_START', 'PROJECT_END', 'PRIMARY_FUNDING_SOURCE', 'PRIMARY_FUNDING_ORG', 'IMPLEMENTING_ORG', 'LATITUDE', 'LONGITUDE', 'BatchID_p', 'Val_Status_p', 'Val_MSG_p', 'Val_RunDate_p', 'Review_Status_p', 'Review_MSG_p', 'Review_RunDate_p', 'Dataload_Status_p', 'Dataload_Msg_p', 'TRMTID_USER', 'PROJECTID', 'PROJECTNAME_', 'ORG_ADMIN_t', 'PRIMARY_OWNERSHIP_GROUP', 'PRIMARY_OBJECTIVE', 'SECONDARY_OBJECTIVE', 'TERTIARY_OBJECTIVE', 'TREATMENT_STATUS', 'COUNTY', 'IN_WUI', 'REGION', 'TREATMENT_AREA', 'TREATMENT_START', 'TREATMENT_END', 'RETREATMENT_DATE_EST', 'TREATMENT_NAME', 'BatchID', 'Val_Status_t', 'Val_MSG_t', 'Val_RunDate_t', 'Review_Status_t', 'Review_Msg_t', 'Review_RunDate_t', 'Dataload_Status_t', 'Dataload_Msg_t', 'ACTIVID_USER', 'TREATMENTID_', 'ORG_ADMIN_a', 'ACTIVITY_DESCRIPTION', 'ACTIVITY_CAT', 'BROAD_VEGETATION_TYPE', 'BVT_USERD', 'ACTIVITY_STATUS', 'ACTIVITY_QUANTITY', 'ACTIVITY_UOM', 'ACTIVITY_START', 'ACTIVITY_END', 'ADMIN_ORG_NAME', 'IMPLEM_ORG_NAME', 'PRIMARY_FUND_SRC_NAME', 'PRIMARY_FUND_ORG_NAME', 'SECONDARY_FUND_SRC_NAME', 'SECONDARY_FUND_ORG_NAME', 'TERTIARY_FUND_SRC_NAME', 'TERTIARY_FUND_ORG_NAME', 'ACTIVITY_PRCT', 'RESIDUE_FATE', 'RESIDUE_FATE_QUANTITY', 'RESIDUE_FATE_UNITS', 'ACTIVITY_NAME', 'VAL_STATUS_a', 'VAL_MSG_a', 'VAL_RUNDATE_a', 'REVIEW_STATUS_a', 'REVIEW_MSG_a', 'REVIEW_RUNDATE_a', 'DATALOAD_STATUS_a', 'DATALOAD_MSG_a', 'Source', 'Year', 'Year_txt', 'Act_Code', 'Crosswalk', 'Federal_FY', 'State_FY', 'TRMT_GEOM', 'COUNTS_TO_MAS', 'SHAPE_Length']\n",
      "Enriching Dataset\n",
      "   Executing Line Enrichments...\n",
      "     Line Enrichment Start Time 2024-09-18 10:56:59.231316\n",
      "       enrich step 1/4 convert to points\n",
      "       enrich step 2/4 execute enrich_points...\n",
      "   Executing Point Enrichments...\n",
      "     Point Enrichment Start Time 2024-09-18 10:56:59.231316\n",
      "     Calculating WUI...\n",
      "       enrich step 1/16 select layer by WUI\n",
      "       enrich step 2/16 calculate WUI yes\n",
      "       enrich step 3/16 switch selection\n",
      "       enrich step 4/16 calculate WUI no\n",
      "       enrich step 5/16 clear selection\n",
      "     Calculating Ownership, Counties, and Regions...\n",
      "       enrich step 6/16 spatial join ownership\n",
      "       enrich step 7/16 spatial join regions\n",
      "       enrich step 8/16 spatial join veg\n",
      "       enrich step 9/16 calculate ownership\n",
      "       enrich step 10/16 calculate county\n",
      "       enrich step 11/16 calculate region\n",
      "       enrich step 12/16 calculate veg type\n",
      "       enrich step 13/16 Initiating Crosswalk\n",
      "      Calculating Crosswalking Activites...\n",
      "          cross step 1/8 add join\n",
      "          cross step 2/8 calculate activities\n",
      "          cross step 3/8 calculate residue fate field\n",
      "          cross step 4/8 select attribute by layer\n",
      "          cross step 5/8 calculating objective...\n",
      "          cross step 6/8 calculate category\n",
      "      Calculate Activity Category Step 1/1\n",
      "          cross step 7/8 standardize domains\n",
      "          cross step 8/8 counts towards MAS\n",
      "      Calculating 'Counts to MAS'\n",
      "        counts step 1/8: set to 'NO'\n",
      "        counts step 2/8: select by bounding years (2020-2023)\n",
      "             this step is redundant and therefore skipped\n",
      "        counts step 3/8: set to 'YES' if activity description is in the list\n",
      "        counts step 3/8: set to 'NO' if not 'Acres'\n",
      "        counts step 4/8: set to 'NO' if status is 'Canceled', 'Planned', 'Outyear', or 'Proposed'\n",
      "        counts step 5/8: set to 'NO' if Activity Category is 'Watershed Improvement'\n",
      "        counts step 6/8: set to 'NO' if Agency is 'Other' and Admin is 'CARB'\n",
      "        counts step 7/8: set to 'NO' if Org is 'USFS' and Status is 'Active'\n",
      "        counts step 8/8: set to 'NO' if Admin is in the list\n",
      "          removing unnecessary fields\n",
      "        field_list before: ['OBJECTID', 'SHAPE', 'Join_Count', 'TARGET_FID', 'Join_Count_1', 'TARGET_FID_1', 'Join_Count_12', 'TARGET_FID_12', 'PROJECTID_USER', 'AGENCY', 'ORG_ADMIN_p', 'PROJECT_CONTACT', 'PROJECT_EMAIL', 'ADMINISTERING_ORG', 'PROJECT_NAME', 'PROJECT_STATUS', 'PROJECT_START', 'PROJECT_END', 'PRIMARY_FUNDING_SOURCE', 'PRIMARY_FUNDING_ORG', 'IMPLEMENTING_ORG', 'LATITUDE', 'LONGITUDE', 'BatchID_p', 'Val_Status_p', 'Val_MSG_p', 'Val_RunDate_p', 'Review_Status_p', 'Review_MSG_p', 'Review_RunDate_p', 'Dataload_Status_p', 'Dataload_Msg_p', 'TRMTID_USER', 'PROJECTID', 'PROJECTNAME_', 'ORG_ADMIN_t', 'PRIMARY_OWNERSHIP_GROUP', 'PRIMARY_OBJECTIVE', 'SECONDARY_OBJECTIVE', 'TERTIARY_OBJECTIVE', 'TREATMENT_STATUS', 'COUNTY', 'IN_WUI', 'REGION', 'TREATMENT_AREA', 'TREATMENT_START', 'TREATMENT_END', 'RETREATMENT_DATE_EST', 'TREATMENT_NAME', 'BatchID', 'Val_Status_t', 'Val_MSG_t', 'Val_RunDate_t', 'Review_Status_t', 'Review_Msg_t', 'Review_RunDate_t', 'Dataload_Status_t', 'Dataload_Msg_t', 'ACTIVID_USER', 'TREATMENTID_', 'ORG_ADMIN_a', 'ACTIVITY_DESCRIPTION', 'ACTIVITY_CAT', 'BROAD_VEGETATION_TYPE', 'BVT_USERD', 'ACTIVITY_STATUS', 'ACTIVITY_QUANTITY', 'ACTIVITY_UOM', 'ACTIVITY_START', 'ACTIVITY_END', 'ADMIN_ORG_NAME', 'IMPLEM_ORG_NAME', 'PRIMARY_FUND_SRC_NAME', 'PRIMARY_FUND_ORG_NAME', 'SECONDARY_FUND_SRC_NAME', 'SECONDARY_FUND_ORG_NAME', 'TERTIARY_FUND_SRC_NAME', 'TERTIARY_FUND_ORG_NAME', 'ACTIVITY_PRCT', 'RESIDUE_FATE', 'RESIDUE_FATE_QUANTITY', 'RESIDUE_FATE_UNITS', 'ACTIVITY_NAME', 'VAL_STATUS_a', 'VAL_MSG_a', 'VAL_RUNDATE_a', 'REVIEW_STATUS_a', 'REVIEW_MSG_a', 'REVIEW_RUNDATE_a', 'DATALOAD_STATUS_a', 'DATALOAD_MSG_a', 'Source', 'Year', 'Year_txt', 'Act_Code', 'Crosswalk', 'Federal_FY', 'State_FY', 'TRMT_GEOM', 'COUNTS_TO_MAS', 'ORIG_FID', 'AGNCY_LEV', 'COUNTY_1', 'GIS_ACRES', 'Region_1', 'GIS_Acres_1', 'Id', 'gridcode', 'WHR13NAME']\n",
      "        field_list after: ['OBJECTID', 'SHAPE', 'PROJECTID_USER', 'AGENCY', 'ORG_ADMIN_p', 'PROJECT_CONTACT', 'PROJECT_EMAIL', 'ADMINISTERING_ORG', 'PROJECT_NAME', 'PROJECT_STATUS', 'PROJECT_START', 'PROJECT_END', 'PRIMARY_FUNDING_SOURCE', 'PRIMARY_FUNDING_ORG', 'IMPLEMENTING_ORG', 'LATITUDE', 'LONGITUDE', 'BatchID_p', 'Val_Status_p', 'Val_MSG_p', 'Val_RunDate_p', 'Review_Status_p', 'Review_MSG_p', 'Review_RunDate_p', 'Dataload_Status_p', 'Dataload_Msg_p', 'TRMTID_USER', 'PROJECTID', 'PROJECTNAME_', 'ORG_ADMIN_t', 'PRIMARY_OWNERSHIP_GROUP', 'PRIMARY_OBJECTIVE', 'SECONDARY_OBJECTIVE', 'TERTIARY_OBJECTIVE', 'TREATMENT_STATUS', 'COUNTY', 'IN_WUI', 'REGION', 'TREATMENT_AREA', 'TREATMENT_START', 'TREATMENT_END', 'RETREATMENT_DATE_EST', 'TREATMENT_NAME', 'BatchID', 'Val_Status_t', 'Val_MSG_t', 'Val_RunDate_t', 'Review_Status_t', 'Review_Msg_t', 'Review_RunDate_t', 'Dataload_Status_t', 'Dataload_Msg_t', 'ACTIVID_USER', 'TREATMENTID_', 'ORG_ADMIN_a', 'ACTIVITY_DESCRIPTION', 'ACTIVITY_CAT', 'BROAD_VEGETATION_TYPE', 'BVT_USERD', 'ACTIVITY_STATUS', 'ACTIVITY_QUANTITY', 'ACTIVITY_UOM', 'ACTIVITY_START', 'ACTIVITY_END', 'ADMIN_ORG_NAME', 'IMPLEM_ORG_NAME', 'PRIMARY_FUND_SRC_NAME', 'PRIMARY_FUND_ORG_NAME', 'SECONDARY_FUND_SRC_NAME', 'SECONDARY_FUND_ORG_NAME', 'TERTIARY_FUND_SRC_NAME', 'TERTIARY_FUND_ORG_NAME', 'ACTIVITY_PRCT', 'RESIDUE_FATE', 'RESIDUE_FATE_QUANTITY', 'RESIDUE_FATE_UNITS', 'ACTIVITY_NAME', 'VAL_STATUS_a', 'VAL_MSG_a', 'VAL_RUNDATE_a', 'REVIEW_STATUS_a', 'REVIEW_MSG_a', 'REVIEW_RUNDATE_a', 'DATALOAD_STATUS_a', 'DATALOAD_MSG_a', 'Source', 'Year', 'Year_txt', 'Act_Code', 'Crosswalk', 'Federal_FY', 'State_FY', 'TRMT_GEOM', 'COUNTS_TO_MAS']\n",
      "     Crosswalk Complete, Continuing Enrichment\n",
      "       enrich step 14/16 Calculating Years\n"
     ]
    },
    {
     "ename": "AttributeError",
     "evalue": "'NoneType' object has no attribute 'year'",
     "output_type": "error",
     "traceback": [
      "\u001b[1;31m---------------------------------------------------------------------------\u001b[0m",
      "\u001b[1;31mAttributeError\u001b[0m                            Traceback (most recent call last)",
      "File \u001b[1;32m<expression>:1\u001b[0m\n",
      "\u001b[1;31mAttributeError\u001b[0m: 'NoneType' object has no attribute 'year'"
     ]
    },
    {
     "ename": "AttributeError",
     "evalue": "'NoneType' object has no attribute 'year'",
     "output_type": "error",
     "traceback": [
      "\u001b[1;31m---------------------------------------------------------------------------\u001b[0m",
      "\u001b[1;31mAttributeError\u001b[0m                            Traceback (most recent call last)",
      "File \u001b[1;32m<expression>:1\u001b[0m\n",
      "\u001b[1;31mAttributeError\u001b[0m: 'NoneType' object has no attribute 'year'"
     ]
    },
    {
     "ename": "AttributeError",
     "evalue": "'NoneType' object has no attribute 'year'",
     "output_type": "error",
     "traceback": [
      "\u001b[1;31m---------------------------------------------------------------------------\u001b[0m",
      "\u001b[1;31mAttributeError\u001b[0m                            Traceback (most recent call last)",
      "File \u001b[1;32m<expression>:1\u001b[0m\n",
      "\u001b[1;31mAttributeError\u001b[0m: 'NoneType' object has no attribute 'year'"
     ]
    },
    {
     "name": "stdout",
     "output_type": "stream",
     "text": [
      "       enrich step 15/16 Calculating Latitude and Longitude\n",
      "       enrich step 16/16 removing unnecessary fields\n",
      "          removing unnecessary fields\n",
      "        field_list before: ['OBJECTID', 'SHAPE', 'PROJECTID_USER', 'AGENCY', 'ORG_ADMIN_p', 'PROJECT_CONTACT', 'PROJECT_EMAIL', 'ADMINISTERING_ORG', 'PROJECT_NAME', 'PROJECT_STATUS', 'PROJECT_START', 'PROJECT_END', 'PRIMARY_FUNDING_SOURCE', 'PRIMARY_FUNDING_ORG', 'IMPLEMENTING_ORG', 'LATITUDE', 'LONGITUDE', 'BatchID_p', 'Val_Status_p', 'Val_MSG_p', 'Val_RunDate_p', 'Review_Status_p', 'Review_MSG_p', 'Review_RunDate_p', 'Dataload_Status_p', 'Dataload_Msg_p', 'TRMTID_USER', 'PROJECTID', 'PROJECTNAME_', 'ORG_ADMIN_t', 'PRIMARY_OWNERSHIP_GROUP', 'PRIMARY_OBJECTIVE', 'SECONDARY_OBJECTIVE', 'TERTIARY_OBJECTIVE', 'TREATMENT_STATUS', 'COUNTY', 'IN_WUI', 'REGION', 'TREATMENT_AREA', 'TREATMENT_START', 'TREATMENT_END', 'RETREATMENT_DATE_EST', 'TREATMENT_NAME', 'BatchID', 'Val_Status_t', 'Val_MSG_t', 'Val_RunDate_t', 'Review_Status_t', 'Review_Msg_t', 'Review_RunDate_t', 'Dataload_Status_t', 'Dataload_Msg_t', 'ACTIVID_USER', 'TREATMENTID_', 'ORG_ADMIN_a', 'ACTIVITY_DESCRIPTION', 'ACTIVITY_CAT', 'BROAD_VEGETATION_TYPE', 'BVT_USERD', 'ACTIVITY_STATUS', 'ACTIVITY_QUANTITY', 'ACTIVITY_UOM', 'ACTIVITY_START', 'ACTIVITY_END', 'ADMIN_ORG_NAME', 'IMPLEM_ORG_NAME', 'PRIMARY_FUND_SRC_NAME', 'PRIMARY_FUND_ORG_NAME', 'SECONDARY_FUND_SRC_NAME', 'SECONDARY_FUND_ORG_NAME', 'TERTIARY_FUND_SRC_NAME', 'TERTIARY_FUND_ORG_NAME', 'ACTIVITY_PRCT', 'RESIDUE_FATE', 'RESIDUE_FATE_QUANTITY', 'RESIDUE_FATE_UNITS', 'ACTIVITY_NAME', 'VAL_STATUS_a', 'VAL_MSG_a', 'VAL_RUNDATE_a', 'REVIEW_STATUS_a', 'REVIEW_MSG_a', 'REVIEW_RUNDATE_a', 'DATALOAD_STATUS_a', 'DATALOAD_MSG_a', 'Source', 'Year', 'Year_txt', 'Act_Code', 'Crosswalk', 'Federal_FY', 'State_FY', 'TRMT_GEOM', 'COUNTS_TO_MAS']\n",
      "        field_list after: ['OBJECTID', 'SHAPE', 'PROJECTID_USER', 'AGENCY', 'ORG_ADMIN_p', 'PROJECT_CONTACT', 'PROJECT_EMAIL', 'ADMINISTERING_ORG', 'PROJECT_NAME', 'PROJECT_STATUS', 'PROJECT_START', 'PROJECT_END', 'PRIMARY_FUNDING_SOURCE', 'PRIMARY_FUNDING_ORG', 'IMPLEMENTING_ORG', 'LATITUDE', 'LONGITUDE', 'BatchID_p', 'Val_Status_p', 'Val_MSG_p', 'Val_RunDate_p', 'Review_Status_p', 'Review_MSG_p', 'Review_RunDate_p', 'Dataload_Status_p', 'Dataload_Msg_p', 'TRMTID_USER', 'PROJECTID', 'PROJECTNAME_', 'ORG_ADMIN_t', 'PRIMARY_OWNERSHIP_GROUP', 'PRIMARY_OBJECTIVE', 'SECONDARY_OBJECTIVE', 'TERTIARY_OBJECTIVE', 'TREATMENT_STATUS', 'COUNTY', 'IN_WUI', 'REGION', 'TREATMENT_AREA', 'TREATMENT_START', 'TREATMENT_END', 'RETREATMENT_DATE_EST', 'TREATMENT_NAME', 'BatchID', 'Val_Status_t', 'Val_MSG_t', 'Val_RunDate_t', 'Review_Status_t', 'Review_Msg_t', 'Review_RunDate_t', 'Dataload_Status_t', 'Dataload_Msg_t', 'ACTIVID_USER', 'TREATMENTID_', 'ORG_ADMIN_a', 'ACTIVITY_DESCRIPTION', 'ACTIVITY_CAT', 'BROAD_VEGETATION_TYPE', 'BVT_USERD', 'ACTIVITY_STATUS', 'ACTIVITY_QUANTITY', 'ACTIVITY_UOM', 'ACTIVITY_START', 'ACTIVITY_END', 'ADMIN_ORG_NAME', 'IMPLEM_ORG_NAME', 'PRIMARY_FUND_SRC_NAME', 'PRIMARY_FUND_ORG_NAME', 'SECONDARY_FUND_SRC_NAME', 'SECONDARY_FUND_ORG_NAME', 'TERTIARY_FUND_SRC_NAME', 'TERTIARY_FUND_ORG_NAME', 'ACTIVITY_PRCT', 'RESIDUE_FATE', 'RESIDUE_FATE_QUANTITY', 'RESIDUE_FATE_UNITS', 'ACTIVITY_NAME', 'VAL_STATUS_a', 'VAL_MSG_a', 'VAL_RUNDATE_a', 'REVIEW_STATUS_a', 'REVIEW_MSG_a', 'REVIEW_RUNDATE_a', 'DATALOAD_STATUS_a', 'DATALOAD_MSG_a', 'Source', 'Year', 'Year_txt', 'Act_Code', 'Crosswalk', 'Federal_FY', 'State_FY', 'TRMT_GEOM', 'COUNTS_TO_MAS']\n",
      "   Enrich Points Complete...\n",
      "     Enrichment Points script took: 2h, 5m, 11.0s to complete\n",
      "       enrich step 3/4 importing attributes\n",
      "       enrich step 4/4 align to template\n",
      "   Enrich Lines Complete...\n",
      "     Enrichment Lines script took: 2h, 6m, 50.0s to complete\n",
      "Saving Enriched Output\n",
      "   output_enriched has 103427 records\n",
      "      assigning domains\n",
      "Deleting Scratch Files\n",
      "CalTrans script took: 2h, 7m, 26.0s to complete\n"
     ]
    }
   ],
   "source": [
    "CalTrans(input_tables, output_lines_enriched, data_year=year)"
   ]
  },
  {
   "cell_type": "code",
   "execution_count": null,
   "metadata": {},
   "outputs": [],
   "source": []
  }
 ],
 "metadata": {
  "kernelspec": {
   "display_name": "Python 3 (ipykernel)",
   "language": "python",
   "name": "python3"
  },
  "language_info": {
   "codemirror_mode": {
    "name": "ipython",
    "version": 3
   },
   "file_extension": ".py",
   "mimetype": "text/x-python",
   "name": "python",
   "nbconvert_exporter": "python",
   "pygments_lexer": "ipython3",
   "version": "3.9.11"
  },
  "vscode": {
   "interpreter": {
    "hash": "4e1abec938aa564085d88d5729e577a09a090f84c8252c84527a9a845926d2eb"
   }
  }
 },
 "nbformat": 4,
 "nbformat_minor": 4
}
